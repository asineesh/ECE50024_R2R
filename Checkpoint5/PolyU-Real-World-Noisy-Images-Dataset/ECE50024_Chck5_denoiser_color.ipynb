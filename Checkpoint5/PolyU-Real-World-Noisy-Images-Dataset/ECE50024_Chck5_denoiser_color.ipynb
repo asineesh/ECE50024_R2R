{
  "cells": [
    {
      "cell_type": "code",
      "execution_count": 1,
      "metadata": {
        "id": "my0robuSXTz-"
      },
      "outputs": [],
      "source": [
        "#Importing all the libraries\n",
        "import torch\n",
        "import torch.nn as nn\n",
        "import torch.nn.functional as F\n",
        "\n",
        "from torch.utils.data import Dataset,DataLoader\n",
        "from torchvision import models,datasets,transforms\n",
        "\n",
        "from tqdm import tqdm\n",
        "import os\n",
        "from PIL import Image\n",
        "import matplotlib.pyplot as plt\n",
        "import math\n",
        "import random\n",
        "import pickle"
      ]
    },
    {
      "cell_type": "code",
      "execution_count": 2,
      "metadata": {
        "colab": {
          "base_uri": "https://localhost:8080/"
        },
        "id": "fRcvdH2uXUMH",
        "outputId": "bd0064fb-ea56-4b56-ae3a-0020d34c975e"
      },
      "outputs": [
        {
          "output_type": "execute_result",
          "data": {
            "text/plain": [
              "device(type='cuda')"
            ]
          },
          "metadata": {},
          "execution_count": 2
        }
      ],
      "source": [
        "#Checking if a GPU with CUDA is available\n",
        "device = torch.device(\"cuda\" if torch.cuda.is_available() else \"cpu\")\n",
        "device"
      ]
    },
    {
      "cell_type": "code",
      "execution_count": 3,
      "metadata": {
        "id": "H9vNtW4VXWxF"
      },
      "outputs": [],
      "source": [
        "#Creating a custom dataset class that generates the noisy counterpart of the clean image and returns both of them\n",
        "class CustomDataset(Dataset):\n",
        "  def __init__(self,dir_name,train_flag):\n",
        "    \"\"\"\n",
        "    train_flag is True for the Train dataset and False for the evaluation dataset\n",
        "    \"\"\"\n",
        "    super().__init__()\n",
        "    #Defining the transforms for the train and test datasets\n",
        "    self.test_transform = transforms.Compose([transforms.ToTensor()])\n",
        "\n",
        "    self.train_flag = train_flag\n",
        "\n",
        "    #Downloading the train and test datasets\n",
        "    if train_flag:\n",
        "      pfile = open(dir_name, 'rb')     #opening the pickle file\n",
        "      self.dataset = pickle.load(pfile) #Reading the tensors from the pickle file\n",
        "      pfile.close() #Closing the pickle file\n",
        "\n",
        "\n",
        "  def __len__(self):\n",
        "    if self.train_flag:\n",
        "      return len(self.dataset)\n",
        "\n",
        "    else:\n",
        "      return 1\n",
        "\n",
        "  def __getitem__(self, index):\n",
        "    if self.train_flag:\n",
        "      img = self.dataset[index] #of shape (3,40,40)\n",
        "      return img\n",
        "\n",
        "    else:\n",
        "      im1 = Image.open(\"/content/drive/MyDrive/R2R_ML/an_image/test/Sony_4-5_125_3200_plant_13_mean.JPG\").convert(\"RGB\") #PIL object\n",
        "      clean_img = self.test_transform(im1) #of shape (3,h,w)\n",
        "\n",
        "      im2 = Image.open(\"/content/drive/MyDrive/R2R_ML/an_image/test/Sony_4-5_125_3200_plant_13_real.JPG\").convert(\"RGB\") #PIL object\n",
        "      noisy_img = self.test_transform(im2) #of shape (3,h,w)\n",
        "      return clean_img, noisy_img\n",
        "\n"
      ]
    },
    {
      "cell_type": "code",
      "execution_count": 4,
      "metadata": {
        "id": "wu-KTe9ja_p7"
      },
      "outputs": [],
      "source": [
        "#Defining a Block of the DnCNN\n",
        "class Block(nn.Module):\n",
        "  def __init__(self,k=3,p=1,c=64):\n",
        "    super().__init__()\n",
        "    self.conv = nn.Conv2d(in_channels=c,out_channels=c,kernel_size=k,padding=p,bias=False) #same padding convolution\n",
        "    self.norm = nn.BatchNorm2d(c) #batch normalization\n",
        "    self.relu = nn.ReLU(inplace=True) #activation function\n",
        "\n",
        "  def forward(self,x):\n",
        "    x = self.conv(x)\n",
        "    x = self.norm(x)\n",
        "    x = self.relu(x)\n",
        "    return x"
      ]
    },
    {
      "cell_type": "code",
      "execution_count": 5,
      "metadata": {
        "id": "2Bq5YdJ1bAfX"
      },
      "outputs": [],
      "source": [
        "#Defining the DnCNN model\n",
        "class DCNN(nn.Module):\n",
        "  def __init__(self,k=3,p=1,c=64,l=17,in_c=1):\n",
        "    super().__init__()\n",
        "    layers = [nn.Conv2d(in_channels=in_c,out_channels=c,kernel_size=k,padding=p,bias=False), #First same padding convolution layer\n",
        "              nn.ReLU(inplace=True)]\n",
        "    layers.extend([Block(k,p,c) for _ in range(l-2)]) #Adding all the \"Blocks\" to the model\n",
        "    layers.append(nn.Conv2d(in_channels=c,out_channels=in_c,kernel_size=k,padding=p,bias=False)) #Last same padding convolution layer\n",
        "\n",
        "    self.all = nn.Sequential(*layers)\n",
        "\n",
        "  def forward(self,x):\n",
        "    out = self.all(x)\n",
        "    return x-out\n"
      ]
    },
    {
      "cell_type": "code",
      "execution_count": 6,
      "metadata": {
        "id": "2g-uj-SzbCgG"
      },
      "outputs": [],
      "source": [
        "#Function for unsupervised training of the model\n",
        "def train(criterion,optimizer,model,device,train_loader,sigma,alpha):\n",
        "  \"\"\"\n",
        "  criterion is the loss function\n",
        "  optimizer is the optimization algorithm used\n",
        "  model is the denoiser model\n",
        "  device is either CPU or GPU(cuda)\n",
        "  train_loader is the DataLoader containing the training dataset\n",
        "  sigma is the noise level\n",
        "  alpha is the constant of 20\n",
        "  \"\"\"\n",
        "  model.train()\n",
        "  loop = tqdm(train_loader) #Used to visualized the progress in training\n",
        "  cur_loss = 0.0\n",
        "\n",
        "  for i,noisy in enumerate(loop): #iterating batch-by-batch through the dataset\n",
        "    noisy = noisy.to(device) #Moving over the data to the \"device\"\n",
        "\n",
        "    #Generating pair of noisy images from the noisy image\n",
        "    noise = (torch.randn(noisy.shape)*(sigma/255.)).to(device)\n",
        "    noisy1 = noisy+alpha*noise\n",
        "    noisy2 = noisy-noise/alpha\n",
        "\n",
        "    noisy2_pred = model(noisy1) #Passing the data through the model\n",
        "    loss = criterion(noisy2_pred,noisy2) #Computing the loss\n",
        "\n",
        "    optimizer.zero_grad() #Zeroing all the previous gradients\n",
        "    loss.backward() #Computing the gradients for the current iteration\n",
        "    optimizer.step() #Updating the weights of the model\n",
        "\n",
        "    cur_loss += loss.item() #Keeping track of the loss\n",
        "    loop.set_postfix(loss=cur_loss/(i+1)) #Printing the cumulative loss after each iteration"
      ]
    },
    {
      "cell_type": "code",
      "execution_count": 7,
      "metadata": {
        "id": "RyjnfGRZbF-A"
      },
      "outputs": [],
      "source": [
        "#Function for testing the model\n",
        "def test(criterion,model,device,test_loader,alpha,sigma,T):\n",
        "  \"\"\"\n",
        "  criterion is the function used to compute PSNR\n",
        "  model is the denoiser model\n",
        "  device is either CPU or GPU(cuda)\n",
        "  test_loader is the DataLoader containing the test dataset\n",
        "  sigma is the noise level\n",
        "  alpha is the constant of 20\n",
        "  T is the number of forward processes averaged to reduce the effect of recorruption\n",
        "  \"\"\"\n",
        "\n",
        "  model.eval()\n",
        "  loop = tqdm(test_loader) #Used to visualized the progress in testing\n",
        "  total_mse = []\n",
        "\n",
        "  with torch.no_grad(): #Ensures that the gradients are not computed\n",
        "    for i,(clean,noisy) in enumerate(loop): #iterating batch-by-batch through the dataset\n",
        "      clean,noisy = clean.to(device).float(), noisy.to(device).float() #Moving over the data to the \"device\"\n",
        "\n",
        "      #Averaging T forward passes\n",
        "      out = torch.zeros(clean.shape).to(device)\n",
        "      for _ in range(T):\n",
        "        noise = (torch.randn(noisy.shape)*(sigma/255.)).to(device)\n",
        "        noisy_main = noisy+alpha*noise\n",
        "        out += model(noisy_main) #Passing the data through the model\n",
        "\n",
        "      clean_pred = torch.clamp(out/T,min=0.0,max=1.0) #Clips all the values greater than 1 or less than 0\n",
        "      loss = (criterion(clean_pred,clean).mean(axis=(1,2,3))).tolist() #Computing MSE at an image level\n",
        "      total_mse.extend(loss)\n",
        "\n",
        "  total_mse_tensor = torch.tensor(total_mse)\n",
        "  psnr = (-10*torch.log10(total_mse_tensor)).mean() #Computing the PSNR using the corresponding MSE values\n",
        "\n",
        "  print(f\"The PSNR is {psnr}\")\n",
        "  return psnr.item()"
      ]
    },
    {
      "cell_type": "code",
      "execution_count": 8,
      "metadata": {
        "id": "7f3MYBWQbJfs"
      },
      "outputs": [],
      "source": [
        "#Function to computer the number of parameters in a model\n",
        "def number_of_parameters(model):\n",
        "    return sum(params.numel() for params in model.parameters() if params.requires_grad)"
      ]
    },
    {
      "cell_type": "code",
      "execution_count": 9,
      "metadata": {
        "id": "oHFRG9Q4bKXP"
      },
      "outputs": [],
      "source": [
        "#Wrapper function to train and evaluate the denoiser model\n",
        "def wrapper(sigma):\n",
        "  print(f\"This is for sigma of {sigma}\")\n",
        "\n",
        "  #Defines the loaders for the train and test set\n",
        "  train_set = CustomDataset(\"/content/drive/MyDrive/R2R_ML/an_image/PolyU_train.pkl\",True)\n",
        "  test_set = CustomDataset(\"\",False)\n",
        "\n",
        "  train_loader = DataLoader(train_set,batch_size=128,shuffle=True,num_workers=64)\n",
        "  test_loader = DataLoader(test_set,batch_size=1,shuffle=False,num_workers=1)\n",
        "\n",
        "  print(f\"The number of images in the train set is {len(train_set)}\")\n",
        "  print(f\"The number of images in the test set is {(len(test_set))}\")\n",
        "\n",
        "  #Defining the model, loss function and optimizer\n",
        "  model = DCNN(in_c=3).to(device)\n",
        "  criterion_train = nn.MSELoss()\n",
        "  criterion_test = nn.MSELoss(reduce=False)\n",
        "  optimizer = torch.optim.Adam(model.parameters(),lr=0.0001)\n",
        "  epochs = 50\n",
        "  alpha = 20\n",
        "  T = 50\n",
        "\n",
        "  print(f\"The model has {number_of_parameters(model)} parameters\")\n",
        "  #Computing the PSNR between the noisy and clean image\n",
        "  total_mse = []\n",
        "  with torch.no_grad():\n",
        "      for i,(clean,noisy) in enumerate(test_loader):\n",
        "        clean,noisy = clean.to(device), noisy.to(device)\n",
        "        loss = (criterion_test(noisy,clean).mean(axis=(1,2,3))).tolist()\n",
        "        total_mse.extend(loss)\n",
        "\n",
        "  total_mse_tensor = torch.tensor(total_mse)\n",
        "  psnr = (-10*torch.log10(total_mse_tensor)).mean()\n",
        "  print(f\"The PSNR for an untrained densoiser is {psnr}\")\n",
        "\n",
        "  #Iterating through the epochs\n",
        "  best_psnr = 0.0\n",
        "  for epoch in range(epochs):\n",
        "    print(f\"The current epoch is {epoch}\")\n",
        "    train(criterion_train,optimizer,model,device,train_loader,sigma,alpha)\n",
        "    cur_psnr = test(criterion_test,model,device,test_loader,alpha,sigma,T)\n",
        "    if cur_psnr>best_psnr: #Saving the model with the best PSNR value\n",
        "      best_psnr = cur_psnr\n",
        "      torch.save(model.state_dict(), \"Unsupervised\"+str(epoch)+\"_\"+str(round(cur_psnr,2))+\"_\"+ str(sigma) + \".pt\")\n"
      ]
    },
    {
      "cell_type": "code",
      "execution_count": 10,
      "metadata": {
        "colab": {
          "base_uri": "https://localhost:8080/"
        },
        "id": "NgARgKajbZb0",
        "outputId": "b34a2145-e65d-471e-8c8e-657be86f73f9"
      },
      "outputs": [
        {
          "output_type": "stream",
          "name": "stdout",
          "text": [
            "This is for sigma of 0.4434824560303241\n",
            "The number of images in the train set is 52367\n",
            "The number of images in the test set is 1\n",
            "The model has 558336 parameters\n"
          ]
        },
        {
          "output_type": "stream",
          "name": "stderr",
          "text": [
            "/usr/local/lib/python3.10/dist-packages/torch/utils/data/dataloader.py:558: UserWarning: This DataLoader will create 64 worker processes in total. Our suggested max number of worker in current system is 16, which is smaller than what this DataLoader is going to create. Please be aware that excessive worker creation might get DataLoader running slow or even freeze, lower the worker number to avoid potential slowness/freeze if necessary.\n",
            "  warnings.warn(_create_warning_msg(\n",
            "/usr/local/lib/python3.10/dist-packages/torch/nn/_reduction.py:42: UserWarning: size_average and reduce args will be deprecated, please use reduction='none' instead.\n",
            "  warnings.warn(warning.format(ret))\n",
            "/usr/lib/python3.10/multiprocessing/popen_fork.py:66: RuntimeWarning: os.fork() was called. os.fork() is incompatible with multithreaded code, and JAX is multithreaded, so this will likely lead to a deadlock.\n",
            "  self.pid = os.fork()\n"
          ]
        },
        {
          "output_type": "stream",
          "name": "stdout",
          "text": [
            "The PSNR for an untrained densoiser is 31.182998657226562\n",
            "The current epoch is 0\n"
          ]
        },
        {
          "output_type": "stream",
          "name": "stderr",
          "text": [
            "100%|██████████| 410/410 [00:48<00:00,  8.39it/s, loss=0.00325]\n",
            "100%|██████████| 1/1 [00:01<00:00,  1.97s/it]\n"
          ]
        },
        {
          "output_type": "stream",
          "name": "stdout",
          "text": [
            "The PSNR is 28.343982696533203\n",
            "The current epoch is 1\n"
          ]
        },
        {
          "output_type": "stream",
          "name": "stderr",
          "text": [
            "100%|██████████| 410/410 [00:48<00:00,  8.53it/s, loss=0.00126]\n",
            "100%|██████████| 1/1 [00:01<00:00,  1.99s/it]\n"
          ]
        },
        {
          "output_type": "stream",
          "name": "stdout",
          "text": [
            "The PSNR is 30.9163818359375\n",
            "The current epoch is 2\n"
          ]
        },
        {
          "output_type": "stream",
          "name": "stderr",
          "text": [
            "100%|██████████| 410/410 [00:48<00:00,  8.46it/s, loss=0.00121]\n",
            "100%|██████████| 1/1 [00:02<00:00,  2.03s/it]\n"
          ]
        },
        {
          "output_type": "stream",
          "name": "stdout",
          "text": [
            "The PSNR is 30.984088897705078\n",
            "The current epoch is 3\n"
          ]
        },
        {
          "output_type": "stream",
          "name": "stderr",
          "text": [
            "100%|██████████| 410/410 [00:49<00:00,  8.35it/s, loss=0.00112]\n",
            "100%|██████████| 1/1 [00:02<00:00,  2.14s/it]\n"
          ]
        },
        {
          "output_type": "stream",
          "name": "stdout",
          "text": [
            "The PSNR is 30.27202796936035\n",
            "The current epoch is 4\n"
          ]
        },
        {
          "output_type": "stream",
          "name": "stderr",
          "text": [
            "100%|██████████| 410/410 [00:50<00:00,  8.09it/s, loss=0.000953]\n",
            "100%|██████████| 1/1 [00:02<00:00,  2.10s/it]\n"
          ]
        },
        {
          "output_type": "stream",
          "name": "stdout",
          "text": [
            "The PSNR is 31.207237243652344\n",
            "The current epoch is 5\n"
          ]
        },
        {
          "output_type": "stream",
          "name": "stderr",
          "text": [
            "100%|██████████| 410/410 [00:50<00:00,  8.15it/s, loss=0.000739]\n",
            "100%|██████████| 1/1 [00:02<00:00,  2.12s/it]\n"
          ]
        },
        {
          "output_type": "stream",
          "name": "stdout",
          "text": [
            "The PSNR is 31.161134719848633\n",
            "The current epoch is 6\n"
          ]
        },
        {
          "output_type": "stream",
          "name": "stderr",
          "text": [
            "100%|██████████| 410/410 [00:50<00:00,  8.13it/s, loss=0.000575]\n",
            "100%|██████████| 1/1 [00:02<00:00,  2.12s/it]\n"
          ]
        },
        {
          "output_type": "stream",
          "name": "stdout",
          "text": [
            "The PSNR is 30.00558853149414\n",
            "The current epoch is 7\n"
          ]
        },
        {
          "output_type": "stream",
          "name": "stderr",
          "text": [
            "100%|██████████| 410/410 [00:50<00:00,  8.14it/s, loss=0.000462]\n",
            "100%|██████████| 1/1 [00:02<00:00,  2.12s/it]\n"
          ]
        },
        {
          "output_type": "stream",
          "name": "stdout",
          "text": [
            "The PSNR is 31.536746978759766\n",
            "The current epoch is 8\n"
          ]
        },
        {
          "output_type": "stream",
          "name": "stderr",
          "text": [
            "100%|██████████| 410/410 [00:50<00:00,  8.14it/s, loss=0.000396]\n",
            "100%|██████████| 1/1 [00:02<00:00,  2.13s/it]\n"
          ]
        },
        {
          "output_type": "stream",
          "name": "stdout",
          "text": [
            "The PSNR is 31.91158103942871\n",
            "The current epoch is 9\n"
          ]
        },
        {
          "output_type": "stream",
          "name": "stderr",
          "text": [
            "100%|██████████| 410/410 [00:50<00:00,  8.14it/s, loss=0.000356]\n",
            "100%|██████████| 1/1 [00:02<00:00,  2.12s/it]\n"
          ]
        },
        {
          "output_type": "stream",
          "name": "stdout",
          "text": [
            "The PSNR is 31.754207611083984\n",
            "The current epoch is 10\n"
          ]
        },
        {
          "output_type": "stream",
          "name": "stderr",
          "text": [
            "100%|██████████| 410/410 [00:50<00:00,  8.14it/s, loss=0.000331]\n",
            "100%|██████████| 1/1 [00:02<00:00,  2.13s/it]\n"
          ]
        },
        {
          "output_type": "stream",
          "name": "stdout",
          "text": [
            "The PSNR is 31.879947662353516\n",
            "The current epoch is 11\n"
          ]
        },
        {
          "output_type": "stream",
          "name": "stderr",
          "text": [
            "100%|██████████| 410/410 [00:50<00:00,  8.14it/s, loss=0.000312]\n",
            "100%|██████████| 1/1 [00:02<00:00,  2.12s/it]\n"
          ]
        },
        {
          "output_type": "stream",
          "name": "stdout",
          "text": [
            "The PSNR is 31.687519073486328\n",
            "The current epoch is 12\n"
          ]
        },
        {
          "output_type": "stream",
          "name": "stderr",
          "text": [
            "100%|██████████| 410/410 [00:50<00:00,  8.14it/s, loss=0.000295]\n",
            "100%|██████████| 1/1 [00:02<00:00,  2.11s/it]\n"
          ]
        },
        {
          "output_type": "stream",
          "name": "stdout",
          "text": [
            "The PSNR is 32.00699996948242\n",
            "The current epoch is 13\n"
          ]
        },
        {
          "output_type": "stream",
          "name": "stderr",
          "text": [
            "100%|██████████| 410/410 [00:50<00:00,  8.14it/s, loss=0.000279]\n",
            "100%|██████████| 1/1 [00:02<00:00,  2.12s/it]\n"
          ]
        },
        {
          "output_type": "stream",
          "name": "stdout",
          "text": [
            "The PSNR is 32.0134391784668\n",
            "The current epoch is 14\n"
          ]
        },
        {
          "output_type": "stream",
          "name": "stderr",
          "text": [
            "100%|██████████| 410/410 [00:50<00:00,  8.14it/s, loss=0.000268]\n",
            "100%|██████████| 1/1 [00:02<00:00,  2.11s/it]\n"
          ]
        },
        {
          "output_type": "stream",
          "name": "stdout",
          "text": [
            "The PSNR is 32.07668685913086\n",
            "The current epoch is 15\n"
          ]
        },
        {
          "output_type": "stream",
          "name": "stderr",
          "text": [
            "100%|██████████| 410/410 [00:50<00:00,  8.13it/s, loss=0.000261]\n",
            "100%|██████████| 1/1 [00:02<00:00,  2.11s/it]\n"
          ]
        },
        {
          "output_type": "stream",
          "name": "stdout",
          "text": [
            "The PSNR is 31.656661987304688\n",
            "The current epoch is 16\n"
          ]
        },
        {
          "output_type": "stream",
          "name": "stderr",
          "text": [
            "100%|██████████| 410/410 [00:50<00:00,  8.13it/s, loss=0.000249]\n",
            "100%|██████████| 1/1 [00:02<00:00,  2.12s/it]\n"
          ]
        },
        {
          "output_type": "stream",
          "name": "stdout",
          "text": [
            "The PSNR is 31.908782958984375\n",
            "The current epoch is 17\n"
          ]
        },
        {
          "output_type": "stream",
          "name": "stderr",
          "text": [
            "100%|██████████| 410/410 [00:50<00:00,  8.10it/s, loss=0.000242]\n",
            "100%|██████████| 1/1 [00:02<00:00,  2.14s/it]\n"
          ]
        },
        {
          "output_type": "stream",
          "name": "stdout",
          "text": [
            "The PSNR is 32.14962387084961\n",
            "The current epoch is 18\n"
          ]
        },
        {
          "output_type": "stream",
          "name": "stderr",
          "text": [
            "100%|██████████| 410/410 [00:50<00:00,  8.13it/s, loss=0.000234]\n",
            "100%|██████████| 1/1 [00:02<00:00,  2.15s/it]\n"
          ]
        },
        {
          "output_type": "stream",
          "name": "stdout",
          "text": [
            "The PSNR is 31.617238998413086\n",
            "The current epoch is 19\n"
          ]
        },
        {
          "output_type": "stream",
          "name": "stderr",
          "text": [
            "100%|██████████| 410/410 [00:50<00:00,  8.13it/s, loss=0.000232]\n",
            "100%|██████████| 1/1 [00:02<00:00,  2.11s/it]\n"
          ]
        },
        {
          "output_type": "stream",
          "name": "stdout",
          "text": [
            "The PSNR is 31.97002410888672\n",
            "The current epoch is 20\n"
          ]
        },
        {
          "output_type": "stream",
          "name": "stderr",
          "text": [
            "100%|██████████| 410/410 [00:50<00:00,  8.12it/s, loss=0.000227]\n",
            "100%|██████████| 1/1 [00:02<00:00,  2.11s/it]\n"
          ]
        },
        {
          "output_type": "stream",
          "name": "stdout",
          "text": [
            "The PSNR is 31.420948028564453\n",
            "The current epoch is 21\n"
          ]
        },
        {
          "output_type": "stream",
          "name": "stderr",
          "text": [
            "100%|██████████| 410/410 [00:50<00:00,  8.14it/s, loss=0.000224]\n",
            "100%|██████████| 1/1 [00:02<00:00,  2.11s/it]\n"
          ]
        },
        {
          "output_type": "stream",
          "name": "stdout",
          "text": [
            "The PSNR is 31.645999908447266\n",
            "The current epoch is 22\n"
          ]
        },
        {
          "output_type": "stream",
          "name": "stderr",
          "text": [
            "100%|██████████| 410/410 [00:50<00:00,  8.12it/s, loss=0.000221]\n",
            "100%|██████████| 1/1 [00:02<00:00,  2.13s/it]\n"
          ]
        },
        {
          "output_type": "stream",
          "name": "stdout",
          "text": [
            "The PSNR is 31.99186134338379\n",
            "The current epoch is 23\n"
          ]
        },
        {
          "output_type": "stream",
          "name": "stderr",
          "text": [
            "100%|██████████| 410/410 [00:50<00:00,  8.13it/s, loss=0.000218]\n",
            "100%|██████████| 1/1 [00:02<00:00,  2.12s/it]\n"
          ]
        },
        {
          "output_type": "stream",
          "name": "stdout",
          "text": [
            "The PSNR is 32.226829528808594\n",
            "The current epoch is 24\n"
          ]
        },
        {
          "output_type": "stream",
          "name": "stderr",
          "text": [
            "100%|██████████| 410/410 [00:50<00:00,  8.13it/s, loss=0.000214]\n",
            "100%|██████████| 1/1 [00:02<00:00,  2.12s/it]\n"
          ]
        },
        {
          "output_type": "stream",
          "name": "stdout",
          "text": [
            "The PSNR is 32.04560852050781\n",
            "The current epoch is 25\n"
          ]
        },
        {
          "output_type": "stream",
          "name": "stderr",
          "text": [
            "100%|██████████| 410/410 [00:50<00:00,  8.10it/s, loss=0.000213]\n",
            "100%|██████████| 1/1 [00:02<00:00,  2.12s/it]\n"
          ]
        },
        {
          "output_type": "stream",
          "name": "stdout",
          "text": [
            "The PSNR is 32.074947357177734\n",
            "The current epoch is 26\n"
          ]
        },
        {
          "output_type": "stream",
          "name": "stderr",
          "text": [
            "100%|██████████| 410/410 [00:50<00:00,  8.14it/s, loss=0.000212]\n",
            "100%|██████████| 1/1 [00:02<00:00,  2.13s/it]\n"
          ]
        },
        {
          "output_type": "stream",
          "name": "stdout",
          "text": [
            "The PSNR is 31.94856834411621\n",
            "The current epoch is 27\n"
          ]
        },
        {
          "output_type": "stream",
          "name": "stderr",
          "text": [
            "100%|██████████| 410/410 [00:50<00:00,  8.13it/s, loss=0.000208]\n",
            "100%|██████████| 1/1 [00:02<00:00,  2.12s/it]\n"
          ]
        },
        {
          "output_type": "stream",
          "name": "stdout",
          "text": [
            "The PSNR is 32.19762420654297\n",
            "The current epoch is 28\n"
          ]
        },
        {
          "output_type": "stream",
          "name": "stderr",
          "text": [
            "100%|██████████| 410/410 [00:50<00:00,  8.12it/s, loss=0.000207]\n",
            "100%|██████████| 1/1 [00:02<00:00,  2.12s/it]\n"
          ]
        },
        {
          "output_type": "stream",
          "name": "stdout",
          "text": [
            "The PSNR is 31.82235336303711\n",
            "The current epoch is 29\n"
          ]
        },
        {
          "output_type": "stream",
          "name": "stderr",
          "text": [
            "100%|██████████| 410/410 [00:50<00:00,  8.13it/s, loss=0.000207]\n",
            "100%|██████████| 1/1 [00:02<00:00,  2.13s/it]\n"
          ]
        },
        {
          "output_type": "stream",
          "name": "stdout",
          "text": [
            "The PSNR is 32.08175277709961\n",
            "The current epoch is 30\n"
          ]
        },
        {
          "output_type": "stream",
          "name": "stderr",
          "text": [
            "100%|██████████| 410/410 [00:50<00:00,  8.12it/s, loss=0.000206]\n",
            "100%|██████████| 1/1 [00:02<00:00,  2.13s/it]\n"
          ]
        },
        {
          "output_type": "stream",
          "name": "stdout",
          "text": [
            "The PSNR is 31.385520935058594\n",
            "The current epoch is 31\n"
          ]
        },
        {
          "output_type": "stream",
          "name": "stderr",
          "text": [
            "100%|██████████| 410/410 [00:50<00:00,  8.14it/s, loss=0.000217]\n",
            "100%|██████████| 1/1 [00:02<00:00,  2.13s/it]\n"
          ]
        },
        {
          "output_type": "stream",
          "name": "stdout",
          "text": [
            "The PSNR is 32.08048629760742\n",
            "The current epoch is 32\n"
          ]
        },
        {
          "output_type": "stream",
          "name": "stderr",
          "text": [
            "100%|██████████| 410/410 [00:50<00:00,  8.11it/s, loss=0.000203]\n",
            "100%|██████████| 1/1 [00:02<00:00,  2.12s/it]\n"
          ]
        },
        {
          "output_type": "stream",
          "name": "stdout",
          "text": [
            "The PSNR is 31.875328063964844\n",
            "The current epoch is 33\n"
          ]
        },
        {
          "output_type": "stream",
          "name": "stderr",
          "text": [
            "100%|██████████| 410/410 [00:50<00:00,  8.13it/s, loss=0.000203]\n",
            "100%|██████████| 1/1 [00:02<00:00,  2.15s/it]\n"
          ]
        },
        {
          "output_type": "stream",
          "name": "stdout",
          "text": [
            "The PSNR is 32.024864196777344\n",
            "The current epoch is 34\n"
          ]
        },
        {
          "output_type": "stream",
          "name": "stderr",
          "text": [
            "100%|██████████| 410/410 [00:50<00:00,  8.12it/s, loss=0.0002]\n",
            "100%|██████████| 1/1 [00:02<00:00,  2.13s/it]\n"
          ]
        },
        {
          "output_type": "stream",
          "name": "stdout",
          "text": [
            "The PSNR is 32.13422393798828\n",
            "The current epoch is 35\n"
          ]
        },
        {
          "output_type": "stream",
          "name": "stderr",
          "text": [
            "100%|██████████| 410/410 [00:50<00:00,  8.14it/s, loss=0.000199]\n",
            "100%|██████████| 1/1 [00:02<00:00,  2.13s/it]\n"
          ]
        },
        {
          "output_type": "stream",
          "name": "stdout",
          "text": [
            "The PSNR is 32.076351165771484\n",
            "The current epoch is 36\n"
          ]
        },
        {
          "output_type": "stream",
          "name": "stderr",
          "text": [
            "100%|██████████| 410/410 [00:50<00:00,  8.13it/s, loss=0.000198]\n",
            "100%|██████████| 1/1 [00:02<00:00,  2.13s/it]\n"
          ]
        },
        {
          "output_type": "stream",
          "name": "stdout",
          "text": [
            "The PSNR is 30.8680362701416\n",
            "The current epoch is 37\n"
          ]
        },
        {
          "output_type": "stream",
          "name": "stderr",
          "text": [
            "100%|██████████| 410/410 [00:50<00:00,  8.11it/s, loss=0.000199]\n",
            "100%|██████████| 1/1 [00:02<00:00,  2.13s/it]\n"
          ]
        },
        {
          "output_type": "stream",
          "name": "stdout",
          "text": [
            "The PSNR is 31.946237564086914\n",
            "The current epoch is 38\n"
          ]
        },
        {
          "output_type": "stream",
          "name": "stderr",
          "text": [
            "100%|██████████| 410/410 [00:50<00:00,  8.12it/s, loss=0.000197]\n",
            "100%|██████████| 1/1 [00:02<00:00,  2.15s/it]\n"
          ]
        },
        {
          "output_type": "stream",
          "name": "stdout",
          "text": [
            "The PSNR is 31.79949951171875\n",
            "The current epoch is 39\n"
          ]
        },
        {
          "output_type": "stream",
          "name": "stderr",
          "text": [
            "100%|██████████| 410/410 [00:50<00:00,  8.14it/s, loss=0.000196]\n",
            "100%|██████████| 1/1 [00:02<00:00,  2.13s/it]\n"
          ]
        },
        {
          "output_type": "stream",
          "name": "stdout",
          "text": [
            "The PSNR is 31.663591384887695\n",
            "The current epoch is 40\n"
          ]
        },
        {
          "output_type": "stream",
          "name": "stderr",
          "text": [
            "100%|██████████| 410/410 [00:50<00:00,  8.12it/s, loss=0.000197]\n",
            "100%|██████████| 1/1 [00:02<00:00,  2.13s/it]\n"
          ]
        },
        {
          "output_type": "stream",
          "name": "stdout",
          "text": [
            "The PSNR is 31.81661605834961\n",
            "The current epoch is 41\n"
          ]
        },
        {
          "output_type": "stream",
          "name": "stderr",
          "text": [
            "100%|██████████| 410/410 [00:50<00:00,  8.11it/s, loss=0.000196]\n",
            "100%|██████████| 1/1 [00:02<00:00,  2.14s/it]\n"
          ]
        },
        {
          "output_type": "stream",
          "name": "stdout",
          "text": [
            "The PSNR is 30.887052536010742\n",
            "The current epoch is 42\n"
          ]
        },
        {
          "output_type": "stream",
          "name": "stderr",
          "text": [
            "100%|██████████| 410/410 [00:50<00:00,  8.13it/s, loss=0.000195]\n",
            "100%|██████████| 1/1 [00:02<00:00,  2.14s/it]\n"
          ]
        },
        {
          "output_type": "stream",
          "name": "stdout",
          "text": [
            "The PSNR is 32.147090911865234\n",
            "The current epoch is 43\n"
          ]
        },
        {
          "output_type": "stream",
          "name": "stderr",
          "text": [
            "100%|██████████| 410/410 [00:50<00:00,  8.14it/s, loss=0.000194]\n",
            "100%|██████████| 1/1 [00:02<00:00,  2.13s/it]\n"
          ]
        },
        {
          "output_type": "stream",
          "name": "stdout",
          "text": [
            "The PSNR is 31.876781463623047\n",
            "The current epoch is 44\n"
          ]
        },
        {
          "output_type": "stream",
          "name": "stderr",
          "text": [
            "100%|██████████| 410/410 [00:50<00:00,  8.12it/s, loss=0.000195]\n",
            "100%|██████████| 1/1 [00:02<00:00,  2.12s/it]\n"
          ]
        },
        {
          "output_type": "stream",
          "name": "stdout",
          "text": [
            "The PSNR is 30.916034698486328\n",
            "The current epoch is 45\n"
          ]
        },
        {
          "output_type": "stream",
          "name": "stderr",
          "text": [
            "100%|██████████| 410/410 [00:50<00:00,  8.13it/s, loss=0.000195]\n",
            "100%|██████████| 1/1 [00:02<00:00,  2.13s/it]\n"
          ]
        },
        {
          "output_type": "stream",
          "name": "stdout",
          "text": [
            "The PSNR is 31.940099716186523\n",
            "The current epoch is 46\n"
          ]
        },
        {
          "output_type": "stream",
          "name": "stderr",
          "text": [
            "100%|██████████| 410/410 [00:50<00:00,  8.13it/s, loss=0.000192]\n",
            "100%|██████████| 1/1 [00:02<00:00,  2.13s/it]\n"
          ]
        },
        {
          "output_type": "stream",
          "name": "stdout",
          "text": [
            "The PSNR is 32.09718322753906\n",
            "The current epoch is 47\n"
          ]
        },
        {
          "output_type": "stream",
          "name": "stderr",
          "text": [
            "100%|██████████| 410/410 [00:50<00:00,  8.09it/s, loss=0.000191]\n",
            "100%|██████████| 1/1 [00:02<00:00,  2.14s/it]\n"
          ]
        },
        {
          "output_type": "stream",
          "name": "stdout",
          "text": [
            "The PSNR is 31.876808166503906\n",
            "The current epoch is 48\n"
          ]
        },
        {
          "output_type": "stream",
          "name": "stderr",
          "text": [
            "100%|██████████| 410/410 [00:50<00:00,  8.12it/s, loss=0.000191]\n",
            "100%|██████████| 1/1 [00:02<00:00,  2.15s/it]\n"
          ]
        },
        {
          "output_type": "stream",
          "name": "stdout",
          "text": [
            "The PSNR is 32.08868408203125\n",
            "The current epoch is 49\n"
          ]
        },
        {
          "output_type": "stream",
          "name": "stderr",
          "text": [
            "100%|██████████| 410/410 [00:50<00:00,  8.13it/s, loss=0.000192]\n",
            "100%|██████████| 1/1 [00:02<00:00,  2.13s/it]"
          ]
        },
        {
          "output_type": "stream",
          "name": "stdout",
          "text": [
            "The PSNR is 32.10338592529297\n"
          ]
        },
        {
          "output_type": "stream",
          "name": "stderr",
          "text": [
            "\n"
          ]
        }
      ],
      "source": [
        "#For sigma value of 0.44\n",
        "wrapper(0.4434824560303241)"
      ]
    },
    {
      "cell_type": "code",
      "source": [],
      "metadata": {
        "id": "zKPuRbUPytMm"
      },
      "execution_count": null,
      "outputs": []
    }
  ],
  "metadata": {
    "accelerator": "GPU",
    "colab": {
      "gpuType": "L4",
      "provenance": [],
      "machine_shape": "hm"
    },
    "kernelspec": {
      "display_name": "Python 3",
      "name": "python3"
    },
    "language_info": {
      "name": "python"
    }
  },
  "nbformat": 4,
  "nbformat_minor": 0
}