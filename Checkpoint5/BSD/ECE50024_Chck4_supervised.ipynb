{
  "cells": [
    {
      "cell_type": "code",
      "execution_count": null,
      "metadata": {
        "id": "my0robuSXTz-"
      },
      "outputs": [],
      "source": [
        "#Importing all the libraries\n",
        "import torch\n",
        "import torch.nn as nn\n",
        "import torch.nn.functional as F\n",
        "\n",
        "from torch.utils.data import Dataset,DataLoader\n",
        "from torchvision import models,datasets,transforms\n",
        "\n",
        "from tqdm import tqdm\n",
        "import os\n",
        "from PIL import Image\n",
        "import matplotlib.pyplot as plt\n",
        "import math\n",
        "import random\n",
        "import pickle"
      ]
    },
    {
      "cell_type": "code",
      "execution_count": null,
      "metadata": {
        "colab": {
          "base_uri": "https://localhost:8080/"
        },
        "id": "fRcvdH2uXUMH",
        "outputId": "1706275d-86ef-4d52-8a89-e690b55f90e9"
      },
      "outputs": [
        {
          "output_type": "execute_result",
          "data": {
            "text/plain": [
              "device(type='cuda')"
            ]
          },
          "metadata": {},
          "execution_count": 2
        }
      ],
      "source": [
        "#Checking if a GPU with CUDA is available\n",
        "device = torch.device(\"cuda\" if torch.cuda.is_available() else \"cpu\")\n",
        "device"
      ]
    },
    {
      "cell_type": "code",
      "execution_count": null,
      "metadata": {
        "id": "H9vNtW4VXWxF"
      },
      "outputs": [],
      "source": [
        "#Creating a custom dataset class that generates the noisy counterpart of the clean image and returns both of them\n",
        "class CustomDataset(Dataset):\n",
        "  def __init__(self,dir_name,train_flag,sigma):\n",
        "    \"\"\"\n",
        "    train_flag is True for the Train dataset and False for the evaluation dataset\n",
        "    sigma is the noise level\n",
        "    \"\"\"\n",
        "    super().__init__()\n",
        "    #Defining the transforms for the train and test datasets\n",
        "    self.test_transform = transforms.Compose([transforms.ToTensor()])\n",
        "\n",
        "    self.train_flag = train_flag\n",
        "\n",
        "    #Downloading the train and test datasets\n",
        "    if train_flag:\n",
        "      pfile = open(dir_name, 'rb')     #opening the pickle file\n",
        "      self.dataset = pickle.load(pfile) #Reading the tensors from the pickle file\n",
        "      pfile.close() #Closing the pickle file\n",
        "\n",
        "    else:\n",
        "      self.dataset = []\n",
        "      for img_name in os.listdir(dir_name):\n",
        "        self.dataset.append(os.path.join(dir_name,img_name))\n",
        "\n",
        "    self.sigma = sigma\n",
        "\n",
        "  def __len__(self):\n",
        "    return len(self.dataset)\n",
        "\n",
        "  def __getitem__(self, index):\n",
        "    if self.train_flag:\n",
        "      clean_img = self.dataset[index].unsqueeze(0) #of shape (1,40,40)\n",
        "\n",
        "    else:\n",
        "      im = Image.open(self.dataset[index])\n",
        "      clean_img = self.test_transform(im) #of shape (1,h,w)\n",
        "\n",
        "    #Generating the noisy image\n",
        "    noisy_img = (torch.randn(clean_img.shape)*(self.sigma/255.))+clean_img\n",
        "    return clean_img, noisy_img\n",
        "\n"
      ]
    },
    {
      "cell_type": "code",
      "execution_count": null,
      "metadata": {
        "id": "wu-KTe9ja_p7"
      },
      "outputs": [],
      "source": [
        "#Defining a Block of the DnCNN\n",
        "class Block(nn.Module):\n",
        "  def __init__(self,k=3,p=1,c=64):\n",
        "    super().__init__()\n",
        "    self.conv = nn.Conv2d(in_channels=c,out_channels=c,kernel_size=k,padding=p,bias=False) #same padding convolution\n",
        "    self.norm = nn.BatchNorm2d(c) #batch normalization\n",
        "    self.relu = nn.ReLU(inplace=True) #activation function\n",
        "\n",
        "  def forward(self,x):\n",
        "    x = self.conv(x)\n",
        "    x = self.norm(x)\n",
        "    x = self.relu(x)\n",
        "    return x"
      ]
    },
    {
      "cell_type": "code",
      "execution_count": null,
      "metadata": {
        "id": "2Bq5YdJ1bAfX"
      },
      "outputs": [],
      "source": [
        "#Defining the DnCNN model\n",
        "class DCNN(nn.Module):\n",
        "  def __init__(self,k=3,p=1,c=64,l=17,in_c=1):\n",
        "    super().__init__()\n",
        "    layers = [nn.Conv2d(in_channels=in_c,out_channels=c,kernel_size=k,padding=p,bias=False), #First same padding convolution layer\n",
        "              nn.ReLU(inplace=True)]\n",
        "    layers.extend([Block(k,p,c) for _ in range(l-2)]) #Adding all the \"Blocks\" to the model\n",
        "    layers.append(nn.Conv2d(in_channels=c,out_channels=in_c,kernel_size=k,padding=p,bias=False)) #Last same padding convolution layer\n",
        "\n",
        "    self.all = nn.Sequential(*layers)\n",
        "\n",
        "  def forward(self,x):\n",
        "    out = self.all(x)\n",
        "    return x-out\n"
      ]
    },
    {
      "cell_type": "code",
      "execution_count": null,
      "metadata": {
        "id": "2g-uj-SzbCgG"
      },
      "outputs": [],
      "source": [
        "#Function for supervised training of the model\n",
        "def train(criterion,optimizer,model,device,train_loader):\n",
        "  \"\"\"\n",
        "  criterion is the loss function\n",
        "  optimizer is the optimization algorithm used\n",
        "  model is the denoiser model\n",
        "  device is either CPU or GPU(cuda)\n",
        "  train_loader is the DataLoader containing the training dataset\n",
        "  \"\"\"\n",
        "\n",
        "  model.train()\n",
        "  loop = tqdm(train_loader)  #Used to visualized the progress in training\n",
        "  cur_loss = 0.0\n",
        "\n",
        "  for i,(clean,noisy) in enumerate(loop):   #iterating batch-by-batch through the dataset\n",
        "    clean,noisy = clean.to(device), noisy.to(device) #Moving over the data to the \"device\"\n",
        "    clean_pred = model(noisy) #Passing the data through the model\n",
        "    loss = criterion(clean_pred,clean) #Computing the loss\n",
        "\n",
        "    optimizer.zero_grad() #Zeroing all the previous gradients\n",
        "    loss.backward() #Computing the gradients for the current iteration\n",
        "    optimizer.step() #Updating the weights of the model\n",
        "\n",
        "    cur_loss += loss.item() #Keeping track of the loss\n",
        "    loop.set_postfix(loss=cur_loss/(i+1)) #Printing the cumulative loss after each iteration"
      ]
    },
    {
      "cell_type": "code",
      "execution_count": null,
      "metadata": {
        "id": "RyjnfGRZbF-A"
      },
      "outputs": [],
      "source": [
        "#Function for testing the model\n",
        "def test(criterion,model,device,test_loader):\n",
        "  \"\"\"\n",
        "  criterion is the function used to compute PSNR\n",
        "  model is the denoiser model\n",
        "  device is either CPU or GPU(cuda)\n",
        "  test_loader is the DataLoader containing the test dataset\n",
        "  \"\"\"\n",
        "\n",
        "  model.eval()\n",
        "  loop = tqdm(test_loader) #Used to visualized the progress in testing\n",
        "  total_mse = []\n",
        "\n",
        "  with torch.no_grad(): #Ensures that the gradients are not computed\n",
        "    for i,(clean,noisy) in enumerate(loop): #iterating batch-by-batch through the dataset\n",
        "      clean,noisy = clean.to(device).float(), noisy.to(device).float() #Moving over the data to the \"device\"\n",
        "      out = model(noisy) #Passing the data through the model\n",
        "\n",
        "      clean_pred = torch.clamp(out,min=0.0,max=1.0) #Clips all the values greater than 1 or less than 0\n",
        "      loss = (criterion(clean_pred,clean).mean(axis=(1,2,3))).tolist() #Computing MSE at an image level\n",
        "      total_mse.extend(loss)\n",
        "\n",
        "  total_mse_tensor = torch.tensor(total_mse)\n",
        "  psnr = (-10*torch.log10(total_mse_tensor)).mean() #Computing the PSNR using the corresponding MSE values\n",
        "\n",
        "  print(f\"The PSNR is {psnr}\")\n",
        "  return psnr.item()"
      ]
    },
    {
      "cell_type": "code",
      "execution_count": null,
      "metadata": {
        "id": "7f3MYBWQbJfs"
      },
      "outputs": [],
      "source": [
        "#Function to computer the number of parameters in a model\n",
        "def number_of_parameters(model):\n",
        "    return sum(params.numel() for params in model.parameters() if params.requires_grad)"
      ]
    },
    {
      "cell_type": "code",
      "execution_count": null,
      "metadata": {
        "id": "oHFRG9Q4bKXP"
      },
      "outputs": [],
      "source": [
        "#Wrapper function to train and evaluate the denoiser model\n",
        "def wrapper(sigma):\n",
        "  print(f\"This is for sigma of {sigma}\")\n",
        "\n",
        "  #Defines the loaders for the train and test set\n",
        "  train_set = CustomDataset(\"/content/drive/MyDrive/R2R_ML/BSD400_train.pkl\",True,sigma)\n",
        "  test_set = CustomDataset(\"/content/drive/MyDrive/R2R_ML/test\",False,sigma)\n",
        "\n",
        "  train_loader = DataLoader(train_set,batch_size=128,shuffle=True,num_workers=128)\n",
        "  test_loader = DataLoader(test_set,batch_size=1,shuffle=False,num_workers=1)\n",
        "\n",
        "  print(f\"The number of images in the train set is {len(train_set)}\")\n",
        "  print(f\"The number of images in the test set is {(len(test_set))}\")\n",
        "\n",
        "  #Defining the model, loss function and optimizer\n",
        "  model = DCNN().to(device)\n",
        "  criterion_train = nn.MSELoss()\n",
        "  criterion_test = nn.MSELoss(reduce=False)\n",
        "  optimizer = torch.optim.Adam(model.parameters(),lr=0.001)\n",
        "  epochs = 20\n",
        "\n",
        "  print(f\"The model has {number_of_parameters(model)} parameters\")\n",
        "  #Computing the PSNR between the noisy and clean image\n",
        "  total_mse = []\n",
        "  with torch.no_grad():\n",
        "      for i,(clean,noisy) in enumerate(test_loader):\n",
        "        clean,noisy = clean.to(device), noisy.to(device)\n",
        "        loss = (criterion_test(noisy,clean).mean(axis=(1,2,3))).tolist()\n",
        "        total_mse.extend(loss)\n",
        "\n",
        "  total_mse_tensor = torch.tensor(total_mse)\n",
        "  psnr = (-10*torch.log10(total_mse_tensor)).mean()\n",
        "  print(f\"The PSNR for an untrained densoiser is {psnr}\")\n",
        "\n",
        "  #Iterating through the epochs\n",
        "  for epoch in range(epochs):\n",
        "    print(f\"The current epoch is {epoch}\")\n",
        "    train(criterion_train,optimizer,model,device,train_loader)\n",
        "    cur_psnr = test(criterion_test,model,device,test_loader)\n",
        "    torch.save(model.state_dict(), \"Supervised\"+str(epoch)+\"_\"+str(round(cur_psnr,2))+\"_\"+ str(sigma) + \".pt\")\n"
      ]
    },
    {
      "cell_type": "code",
      "source": [
        "#For sigma value of 10\n",
        "wrapper(10)"
      ],
      "metadata": {
        "colab": {
          "base_uri": "https://localhost:8080/"
        },
        "id": "DKaYKD8QMpdA",
        "outputId": "ca2c920c-84a0-421d-fd36-6f352b9e3900"
      },
      "execution_count": null,
      "outputs": [
        {
          "output_type": "stream",
          "name": "stdout",
          "text": [
            "This is for sigma of 10\n"
          ]
        },
        {
          "output_type": "stream",
          "name": "stderr",
          "text": [
            "/usr/local/lib/python3.10/dist-packages/torch/utils/data/dataloader.py:558: UserWarning: This DataLoader will create 128 worker processes in total. Our suggested max number of worker in current system is 2, which is smaller than what this DataLoader is going to create. Please be aware that excessive worker creation might get DataLoader running slow or even freeze, lower the worker number to avoid potential slowness/freeze if necessary.\n",
            "  warnings.warn(_create_warning_msg(\n"
          ]
        },
        {
          "output_type": "stream",
          "name": "stdout",
          "text": [
            "The number of images in the train set is 238400\n",
            "The number of images in the test set is 68\n",
            "The model has 556032 parameters\n"
          ]
        },
        {
          "output_type": "stream",
          "name": "stderr",
          "text": [
            "/usr/local/lib/python3.10/dist-packages/torch/nn/_reduction.py:42: UserWarning: size_average and reduce args will be deprecated, please use reduction='none' instead.\n",
            "  warnings.warn(warning.format(ret))\n",
            "/usr/lib/python3.10/multiprocessing/popen_fork.py:66: RuntimeWarning: os.fork() was called. os.fork() is incompatible with multithreaded code, and JAX is multithreaded, so this will likely lead to a deadlock.\n",
            "  self.pid = os.fork()\n",
            "/usr/lib/python3.10/multiprocessing/popen_fork.py:66: RuntimeWarning: os.fork() was called. os.fork() is incompatible with multithreaded code, and JAX is multithreaded, so this will likely lead to a deadlock.\n",
            "  self.pid = os.fork()\n"
          ]
        },
        {
          "output_type": "stream",
          "name": "stdout",
          "text": [
            "The PSNR for an untrained densoiser is 28.131332397460938\n",
            "The current epoch is 0\n"
          ]
        },
        {
          "output_type": "stream",
          "name": "stderr",
          "text": [
            "100%|██████████| 1863/1863 [02:31<00:00, 12.33it/s, loss=0.00139]\n",
            "100%|██████████| 68/68 [00:01<00:00, 48.75it/s]\n"
          ]
        },
        {
          "output_type": "stream",
          "name": "stdout",
          "text": [
            "The PSNR is 33.044063568115234\n",
            "The current epoch is 1\n"
          ]
        },
        {
          "output_type": "stream",
          "name": "stderr",
          "text": [
            "100%|██████████| 1863/1863 [02:26<00:00, 12.68it/s, loss=0.000524]\n",
            "100%|██████████| 68/68 [00:01<00:00, 49.65it/s]\n"
          ]
        },
        {
          "output_type": "stream",
          "name": "stdout",
          "text": [
            "The PSNR is 33.28026580810547\n",
            "The current epoch is 2\n"
          ]
        },
        {
          "output_type": "stream",
          "name": "stderr",
          "text": [
            "100%|██████████| 1863/1863 [02:26<00:00, 12.68it/s, loss=0.000505]\n",
            "100%|██████████| 68/68 [00:01<00:00, 47.90it/s]\n"
          ]
        },
        {
          "output_type": "stream",
          "name": "stdout",
          "text": [
            "The PSNR is 33.409873962402344\n",
            "The current epoch is 3\n"
          ]
        },
        {
          "output_type": "stream",
          "name": "stderr",
          "text": [
            "100%|██████████| 1863/1863 [02:25<00:00, 12.83it/s, loss=0.000471]\n",
            "100%|██████████| 68/68 [00:01<00:00, 48.40it/s]\n"
          ]
        },
        {
          "output_type": "stream",
          "name": "stdout",
          "text": [
            "The PSNR is 33.53355026245117\n",
            "The current epoch is 4\n"
          ]
        },
        {
          "output_type": "stream",
          "name": "stderr",
          "text": [
            "100%|██████████| 1863/1863 [02:26<00:00, 12.74it/s, loss=0.000474]\n",
            "100%|██████████| 68/68 [00:01<00:00, 49.06it/s]\n"
          ]
        },
        {
          "output_type": "stream",
          "name": "stdout",
          "text": [
            "The PSNR is 33.56398010253906\n",
            "The current epoch is 5\n"
          ]
        },
        {
          "output_type": "stream",
          "name": "stderr",
          "text": [
            "100%|██████████| 1863/1863 [02:27<00:00, 12.64it/s, loss=0.000452]\n",
            "100%|██████████| 68/68 [00:01<00:00, 47.11it/s]\n"
          ]
        },
        {
          "output_type": "stream",
          "name": "stdout",
          "text": [
            "The PSNR is 33.682952880859375\n",
            "The current epoch is 6\n"
          ]
        },
        {
          "output_type": "stream",
          "name": "stderr",
          "text": [
            "100%|██████████| 1863/1863 [02:26<00:00, 12.68it/s, loss=0.000445]\n",
            "100%|██████████| 68/68 [00:01<00:00, 48.69it/s]\n"
          ]
        },
        {
          "output_type": "stream",
          "name": "stdout",
          "text": [
            "The PSNR is 33.703304290771484\n",
            "The current epoch is 7\n"
          ]
        },
        {
          "output_type": "stream",
          "name": "stderr",
          "text": [
            "100%|██████████| 1863/1863 [02:28<00:00, 12.51it/s, loss=0.000923]\n",
            "100%|██████████| 68/68 [00:01<00:00, 48.97it/s]\n"
          ]
        },
        {
          "output_type": "stream",
          "name": "stdout",
          "text": [
            "The PSNR is 28.25892448425293\n",
            "The current epoch is 8\n"
          ]
        },
        {
          "output_type": "stream",
          "name": "stderr",
          "text": [
            "100%|██████████| 1863/1863 [02:28<00:00, 12.58it/s, loss=0.000924]\n",
            "100%|██████████| 68/68 [00:01<00:00, 48.62it/s]\n"
          ]
        },
        {
          "output_type": "stream",
          "name": "stdout",
          "text": [
            "The PSNR is 33.25846481323242\n",
            "The current epoch is 9\n"
          ]
        },
        {
          "output_type": "stream",
          "name": "stderr",
          "text": [
            "100%|██████████| 1863/1863 [02:28<00:00, 12.58it/s, loss=0.000484]\n",
            "100%|██████████| 68/68 [00:01<00:00, 48.63it/s]\n"
          ]
        },
        {
          "output_type": "stream",
          "name": "stdout",
          "text": [
            "The PSNR is 33.512882232666016\n",
            "The current epoch is 10\n"
          ]
        },
        {
          "output_type": "stream",
          "name": "stderr",
          "text": [
            "100%|██████████| 1863/1863 [02:28<00:00, 12.57it/s, loss=0.000468]\n",
            "100%|██████████| 68/68 [00:01<00:00, 48.17it/s]\n"
          ]
        },
        {
          "output_type": "stream",
          "name": "stdout",
          "text": [
            "The PSNR is 33.5836181640625\n",
            "The current epoch is 11\n"
          ]
        },
        {
          "output_type": "stream",
          "name": "stderr",
          "text": [
            "100%|██████████| 1863/1863 [02:28<00:00, 12.54it/s, loss=0.000452]\n",
            "100%|██████████| 68/68 [00:01<00:00, 48.62it/s]\n"
          ]
        },
        {
          "output_type": "stream",
          "name": "stdout",
          "text": [
            "The PSNR is 33.65249252319336\n",
            "The current epoch is 12\n"
          ]
        },
        {
          "output_type": "stream",
          "name": "stderr",
          "text": [
            "100%|██████████| 1863/1863 [02:26<00:00, 12.70it/s, loss=0.000445]\n",
            "100%|██████████| 68/68 [00:01<00:00, 37.15it/s]\n"
          ]
        },
        {
          "output_type": "stream",
          "name": "stdout",
          "text": [
            "The PSNR is 33.722755432128906\n",
            "The current epoch is 13\n"
          ]
        },
        {
          "output_type": "stream",
          "name": "stderr",
          "text": [
            "100%|██████████| 1863/1863 [02:27<00:00, 12.65it/s, loss=0.00044]\n",
            "100%|██████████| 68/68 [00:01<00:00, 37.73it/s]\n"
          ]
        },
        {
          "output_type": "stream",
          "name": "stdout",
          "text": [
            "The PSNR is 33.7554931640625\n",
            "The current epoch is 14\n"
          ]
        },
        {
          "output_type": "stream",
          "name": "stderr",
          "text": [
            "100%|██████████| 1863/1863 [02:27<00:00, 12.66it/s, loss=0.000435]\n",
            "100%|██████████| 68/68 [00:01<00:00, 42.08it/s]\n"
          ]
        },
        {
          "output_type": "stream",
          "name": "stdout",
          "text": [
            "The PSNR is 33.73259735107422\n",
            "The current epoch is 15\n"
          ]
        },
        {
          "output_type": "stream",
          "name": "stderr",
          "text": [
            "100%|██████████| 1863/1863 [02:27<00:00, 12.64it/s, loss=0.000433]\n",
            "100%|██████████| 68/68 [00:01<00:00, 48.71it/s]\n"
          ]
        },
        {
          "output_type": "stream",
          "name": "stdout",
          "text": [
            "The PSNR is 33.77456283569336\n",
            "The current epoch is 16\n"
          ]
        },
        {
          "output_type": "stream",
          "name": "stderr",
          "text": [
            "100%|██████████| 1863/1863 [02:28<00:00, 12.51it/s, loss=0.000431]\n",
            "100%|██████████| 68/68 [00:01<00:00, 46.90it/s]\n"
          ]
        },
        {
          "output_type": "stream",
          "name": "stdout",
          "text": [
            "The PSNR is 33.802391052246094\n",
            "The current epoch is 17\n"
          ]
        },
        {
          "output_type": "stream",
          "name": "stderr",
          "text": [
            "100%|██████████| 1863/1863 [02:28<00:00, 12.54it/s, loss=0.00043]\n",
            "100%|██████████| 68/68 [00:01<00:00, 47.65it/s]\n"
          ]
        },
        {
          "output_type": "stream",
          "name": "stdout",
          "text": [
            "The PSNR is 33.79368591308594\n",
            "The current epoch is 18\n"
          ]
        },
        {
          "output_type": "stream",
          "name": "stderr",
          "text": [
            "100%|██████████| 1863/1863 [02:28<00:00, 12.53it/s, loss=0.000428]\n",
            "100%|██████████| 68/68 [00:01<00:00, 47.24it/s]\n"
          ]
        },
        {
          "output_type": "stream",
          "name": "stdout",
          "text": [
            "The PSNR is 33.79641342163086\n",
            "The current epoch is 19\n"
          ]
        },
        {
          "output_type": "stream",
          "name": "stderr",
          "text": [
            "100%|██████████| 1863/1863 [02:28<00:00, 12.53it/s, loss=0.000427]\n",
            "100%|██████████| 68/68 [00:01<00:00, 47.58it/s]\n"
          ]
        },
        {
          "output_type": "stream",
          "name": "stdout",
          "text": [
            "The PSNR is 33.79227828979492\n"
          ]
        }
      ]
    },
    {
      "cell_type": "code",
      "execution_count": null,
      "metadata": {
        "colab": {
          "base_uri": "https://localhost:8080/"
        },
        "id": "NgARgKajbZb0",
        "outputId": "6e6dcbc1-16ac-4f89-a32f-08b1423ff81f"
      },
      "outputs": [
        {
          "output_type": "stream",
          "name": "stdout",
          "text": [
            "This is for sigma of 25\n",
            "The number of images in the train set is 238400\n",
            "The number of images in the test set is 68\n",
            "The model has 556032 parameters\n",
            "The PSNR for an untrained densoiser is 20.168657302856445\n",
            "The current epoch is 0\n"
          ]
        },
        {
          "output_type": "stream",
          "name": "stderr",
          "text": [
            "100%|██████████| 1863/1863 [02:30<00:00, 12.36it/s, loss=0.00346]\n",
            "100%|██████████| 68/68 [00:01<00:00, 47.81it/s]\n"
          ]
        },
        {
          "output_type": "stream",
          "name": "stdout",
          "text": [
            "The PSNR is 28.13762092590332\n",
            "The current epoch is 1\n"
          ]
        },
        {
          "output_type": "stream",
          "name": "stderr",
          "text": [
            "100%|██████████| 1863/1863 [02:31<00:00, 12.30it/s, loss=0.00162]\n",
            "100%|██████████| 68/68 [00:01<00:00, 48.31it/s]\n"
          ]
        },
        {
          "output_type": "stream",
          "name": "stdout",
          "text": [
            "The PSNR is 28.514789581298828\n",
            "The current epoch is 2\n"
          ]
        },
        {
          "output_type": "stream",
          "name": "stderr",
          "text": [
            "100%|██████████| 1863/1863 [02:32<00:00, 12.23it/s, loss=0.00153]\n",
            "100%|██████████| 68/68 [00:01<00:00, 47.39it/s]\n"
          ]
        },
        {
          "output_type": "stream",
          "name": "stdout",
          "text": [
            "The PSNR is 28.620447158813477\n",
            "The current epoch is 3\n"
          ]
        },
        {
          "output_type": "stream",
          "name": "stderr",
          "text": [
            "100%|██████████| 1863/1863 [02:29<00:00, 12.49it/s, loss=0.00148]\n",
            "100%|██████████| 68/68 [00:01<00:00, 35.17it/s]\n"
          ]
        },
        {
          "output_type": "stream",
          "name": "stdout",
          "text": [
            "The PSNR is 28.742403030395508\n",
            "The current epoch is 4\n"
          ]
        },
        {
          "output_type": "stream",
          "name": "stderr",
          "text": [
            "100%|██████████| 1863/1863 [02:29<00:00, 12.48it/s, loss=0.00145]\n",
            "100%|██████████| 68/68 [00:01<00:00, 42.09it/s]\n"
          ]
        },
        {
          "output_type": "stream",
          "name": "stdout",
          "text": [
            "The PSNR is 28.802005767822266\n",
            "The current epoch is 5\n"
          ]
        },
        {
          "output_type": "stream",
          "name": "stderr",
          "text": [
            "100%|██████████| 1863/1863 [02:28<00:00, 12.57it/s, loss=0.00142]\n",
            "100%|██████████| 68/68 [00:01<00:00, 40.04it/s]\n"
          ]
        },
        {
          "output_type": "stream",
          "name": "stdout",
          "text": [
            "The PSNR is 28.929676055908203\n",
            "The current epoch is 6\n"
          ]
        },
        {
          "output_type": "stream",
          "name": "stderr",
          "text": [
            "100%|██████████| 1863/1863 [02:29<00:00, 12.44it/s, loss=0.0014]\n",
            "100%|██████████| 68/68 [00:01<00:00, 47.53it/s]\n"
          ]
        },
        {
          "output_type": "stream",
          "name": "stdout",
          "text": [
            "The PSNR is 28.891178131103516\n",
            "The current epoch is 7\n"
          ]
        },
        {
          "output_type": "stream",
          "name": "stderr",
          "text": [
            "100%|██████████| 1863/1863 [02:30<00:00, 12.37it/s, loss=0.00138]\n",
            "100%|██████████| 68/68 [00:01<00:00, 47.19it/s]\n"
          ]
        },
        {
          "output_type": "stream",
          "name": "stdout",
          "text": [
            "The PSNR is 28.919355392456055\n",
            "The current epoch is 8\n"
          ]
        },
        {
          "output_type": "stream",
          "name": "stderr",
          "text": [
            "100%|██████████| 1863/1863 [02:30<00:00, 12.40it/s, loss=0.00137]\n",
            "100%|██████████| 68/68 [00:01<00:00, 39.24it/s]\n"
          ]
        },
        {
          "output_type": "stream",
          "name": "stdout",
          "text": [
            "The PSNR is 28.990646362304688\n",
            "The current epoch is 9\n"
          ]
        },
        {
          "output_type": "stream",
          "name": "stderr",
          "text": [
            "100%|██████████| 1863/1863 [02:28<00:00, 12.51it/s, loss=0.00136]\n",
            "100%|██████████| 68/68 [00:01<00:00, 46.44it/s]\n"
          ]
        },
        {
          "output_type": "stream",
          "name": "stdout",
          "text": [
            "The PSNR is 28.992570877075195\n",
            "The current epoch is 10\n"
          ]
        },
        {
          "output_type": "stream",
          "name": "stderr",
          "text": [
            "100%|██████████| 1863/1863 [02:29<00:00, 12.49it/s, loss=0.00136]\n",
            "100%|██████████| 68/68 [00:01<00:00, 46.83it/s]\n"
          ]
        },
        {
          "output_type": "stream",
          "name": "stdout",
          "text": [
            "The PSNR is 29.05179786682129\n",
            "The current epoch is 11\n"
          ]
        },
        {
          "output_type": "stream",
          "name": "stderr",
          "text": [
            "100%|██████████| 1863/1863 [02:31<00:00, 12.31it/s, loss=0.00135]\n",
            "100%|██████████| 68/68 [00:01<00:00, 47.37it/s]\n"
          ]
        },
        {
          "output_type": "stream",
          "name": "stdout",
          "text": [
            "The PSNR is 29.057453155517578\n",
            "The current epoch is 12\n"
          ]
        },
        {
          "output_type": "stream",
          "name": "stderr",
          "text": [
            "100%|██████████| 1863/1863 [02:30<00:00, 12.36it/s, loss=0.00135]\n",
            "100%|██████████| 68/68 [00:01<00:00, 47.36it/s]\n"
          ]
        },
        {
          "output_type": "stream",
          "name": "stdout",
          "text": [
            "The PSNR is 29.066524505615234\n",
            "The current epoch is 13\n"
          ]
        },
        {
          "output_type": "stream",
          "name": "stderr",
          "text": [
            "100%|██████████| 1863/1863 [02:30<00:00, 12.40it/s, loss=0.00134]\n",
            "100%|██████████| 68/68 [00:01<00:00, 46.94it/s]\n"
          ]
        },
        {
          "output_type": "stream",
          "name": "stdout",
          "text": [
            "The PSNR is 29.076520919799805\n",
            "The current epoch is 14\n"
          ]
        },
        {
          "output_type": "stream",
          "name": "stderr",
          "text": [
            "100%|██████████| 1863/1863 [02:31<00:00, 12.27it/s, loss=0.00134]\n",
            "100%|██████████| 68/68 [00:01<00:00, 48.29it/s]\n"
          ]
        },
        {
          "output_type": "stream",
          "name": "stdout",
          "text": [
            "The PSNR is 29.095016479492188\n",
            "The current epoch is 15\n"
          ]
        },
        {
          "output_type": "stream",
          "name": "stderr",
          "text": [
            "100%|██████████| 1863/1863 [02:30<00:00, 12.38it/s, loss=0.00134]\n",
            "100%|██████████| 68/68 [00:01<00:00, 37.00it/s]\n"
          ]
        },
        {
          "output_type": "stream",
          "name": "stdout",
          "text": [
            "The PSNR is 29.093883514404297\n",
            "The current epoch is 16\n"
          ]
        },
        {
          "output_type": "stream",
          "name": "stderr",
          "text": [
            "100%|██████████| 1863/1863 [02:31<00:00, 12.32it/s, loss=0.00133]\n",
            "100%|██████████| 68/68 [00:01<00:00, 43.21it/s]\n"
          ]
        },
        {
          "output_type": "stream",
          "name": "stdout",
          "text": [
            "The PSNR is 29.095563888549805\n",
            "The current epoch is 17\n"
          ]
        },
        {
          "output_type": "stream",
          "name": "stderr",
          "text": [
            "100%|██████████| 1863/1863 [02:32<00:00, 12.23it/s, loss=0.00135]\n",
            "100%|██████████| 68/68 [00:02<00:00, 33.28it/s]\n"
          ]
        },
        {
          "output_type": "stream",
          "name": "stdout",
          "text": [
            "The PSNR is 23.36663818359375\n",
            "The current epoch is 18\n"
          ]
        },
        {
          "output_type": "stream",
          "name": "stderr",
          "text": [
            "100%|██████████| 1863/1863 [02:30<00:00, 12.38it/s, loss=0.00152]\n",
            "100%|██████████| 68/68 [00:01<00:00, 46.16it/s]\n"
          ]
        },
        {
          "output_type": "stream",
          "name": "stdout",
          "text": [
            "The PSNR is 28.993730545043945\n",
            "The current epoch is 19\n"
          ]
        },
        {
          "output_type": "stream",
          "name": "stderr",
          "text": [
            "100%|██████████| 1863/1863 [02:31<00:00, 12.32it/s, loss=0.00136]\n",
            "100%|██████████| 68/68 [00:01<00:00, 46.35it/s]\n"
          ]
        },
        {
          "output_type": "stream",
          "name": "stdout",
          "text": [
            "The PSNR is 29.080610275268555\n"
          ]
        }
      ],
      "source": [
        "#For sigma value of 25\n",
        "wrapper(25)"
      ]
    },
    {
      "cell_type": "code",
      "source": [
        "#For sigma value of 50\n",
        "wrapper(50)"
      ],
      "metadata": {
        "id": "OTLmvjbzMss5",
        "colab": {
          "base_uri": "https://localhost:8080/"
        },
        "outputId": "c31277ae-030e-4816-e7a8-081d7e9f6d4d"
      },
      "execution_count": null,
      "outputs": [
        {
          "output_type": "stream",
          "name": "stdout",
          "text": [
            "This is for sigma of 50\n",
            "The number of images in the train set is 238400\n",
            "The number of images in the test set is 68\n",
            "The model has 556032 parameters\n",
            "The PSNR for an untrained densoiser is 14.154053688049316\n",
            "The current epoch is 0\n"
          ]
        },
        {
          "output_type": "stream",
          "name": "stderr",
          "text": [
            "100%|██████████| 1863/1863 [02:32<00:00, 12.21it/s, loss=0.00551]\n",
            "100%|██████████| 68/68 [00:01<00:00, 43.04it/s]\n"
          ]
        },
        {
          "output_type": "stream",
          "name": "stdout",
          "text": [
            "The PSNR is 24.96471405029297\n",
            "The current epoch is 1\n"
          ]
        },
        {
          "output_type": "stream",
          "name": "stderr",
          "text": [
            "100%|██████████| 1863/1863 [02:36<00:00, 11.88it/s, loss=0.00344]\n",
            "100%|██████████| 68/68 [00:01<00:00, 46.24it/s]\n"
          ]
        },
        {
          "output_type": "stream",
          "name": "stdout",
          "text": [
            "The PSNR is 25.299646377563477\n",
            "The current epoch is 2\n"
          ]
        },
        {
          "output_type": "stream",
          "name": "stderr",
          "text": [
            "100%|██████████| 1863/1863 [02:36<00:00, 11.89it/s, loss=0.00326]\n",
            "100%|██████████| 68/68 [00:01<00:00, 45.60it/s]\n"
          ]
        },
        {
          "output_type": "stream",
          "name": "stdout",
          "text": [
            "The PSNR is 25.53512954711914\n",
            "The current epoch is 3\n"
          ]
        },
        {
          "output_type": "stream",
          "name": "stderr",
          "text": [
            "100%|██████████| 1863/1863 [02:32<00:00, 12.21it/s, loss=0.00314]\n",
            "100%|██████████| 68/68 [00:01<00:00, 47.29it/s]\n"
          ]
        },
        {
          "output_type": "stream",
          "name": "stdout",
          "text": [
            "The PSNR is 25.519838333129883\n",
            "The current epoch is 4\n"
          ]
        },
        {
          "output_type": "stream",
          "name": "stderr",
          "text": [
            "100%|██████████| 1863/1863 [02:35<00:00, 12.00it/s, loss=0.00306]\n",
            "100%|██████████| 68/68 [00:01<00:00, 46.22it/s]\n"
          ]
        },
        {
          "output_type": "stream",
          "name": "stdout",
          "text": [
            "The PSNR is 25.498424530029297\n",
            "The current epoch is 5\n"
          ]
        },
        {
          "output_type": "stream",
          "name": "stderr",
          "text": [
            "100%|██████████| 1863/1863 [02:35<00:00, 11.98it/s, loss=0.003]\n",
            "100%|██████████| 68/68 [00:01<00:00, 45.56it/s]\n"
          ]
        },
        {
          "output_type": "stream",
          "name": "stdout",
          "text": [
            "The PSNR is 25.558931350708008\n",
            "The current epoch is 6\n"
          ]
        },
        {
          "output_type": "stream",
          "name": "stderr",
          "text": [
            "100%|██████████| 1863/1863 [02:34<00:00, 12.05it/s, loss=0.00296]\n",
            "100%|██████████| 68/68 [00:01<00:00, 46.33it/s]\n"
          ]
        },
        {
          "output_type": "stream",
          "name": "stdout",
          "text": [
            "The PSNR is 25.82815933227539\n",
            "The current epoch is 7\n"
          ]
        },
        {
          "output_type": "stream",
          "name": "stderr",
          "text": [
            "100%|██████████| 1863/1863 [02:34<00:00, 12.08it/s, loss=0.00292]\n",
            "100%|██████████| 68/68 [00:01<00:00, 46.80it/s]\n"
          ]
        },
        {
          "output_type": "stream",
          "name": "stdout",
          "text": [
            "The PSNR is 25.852989196777344\n",
            "The current epoch is 8\n"
          ]
        },
        {
          "output_type": "stream",
          "name": "stderr",
          "text": [
            "100%|██████████| 1863/1863 [02:33<00:00, 12.10it/s, loss=0.00289]\n",
            "100%|██████████| 68/68 [00:01<00:00, 46.36it/s]\n"
          ]
        },
        {
          "output_type": "stream",
          "name": "stdout",
          "text": [
            "The PSNR is 25.807262420654297\n",
            "The current epoch is 9\n"
          ]
        },
        {
          "output_type": "stream",
          "name": "stderr",
          "text": [
            "100%|██████████| 1863/1863 [02:32<00:00, 12.21it/s, loss=0.00287]\n",
            "100%|██████████| 68/68 [00:01<00:00, 45.97it/s]\n"
          ]
        },
        {
          "output_type": "stream",
          "name": "stdout",
          "text": [
            "The PSNR is 26.02015495300293\n",
            "The current epoch is 10\n"
          ]
        },
        {
          "output_type": "stream",
          "name": "stderr",
          "text": [
            "100%|██████████| 1863/1863 [02:34<00:00, 12.10it/s, loss=0.00286]\n",
            "100%|██████████| 68/68 [00:01<00:00, 46.34it/s]\n"
          ]
        },
        {
          "output_type": "stream",
          "name": "stdout",
          "text": [
            "The PSNR is 25.935279846191406\n",
            "The current epoch is 11\n"
          ]
        },
        {
          "output_type": "stream",
          "name": "stderr",
          "text": [
            "100%|██████████| 1863/1863 [02:35<00:00, 11.99it/s, loss=0.00284]\n",
            "100%|██████████| 68/68 [00:01<00:00, 46.80it/s]\n"
          ]
        },
        {
          "output_type": "stream",
          "name": "stdout",
          "text": [
            "The PSNR is 25.94942855834961\n",
            "The current epoch is 12\n"
          ]
        },
        {
          "output_type": "stream",
          "name": "stderr",
          "text": [
            "100%|██████████| 1863/1863 [02:33<00:00, 12.12it/s, loss=0.00283]\n",
            "100%|██████████| 68/68 [00:01<00:00, 45.96it/s]\n"
          ]
        },
        {
          "output_type": "stream",
          "name": "stdout",
          "text": [
            "The PSNR is 26.027942657470703\n",
            "The current epoch is 13\n"
          ]
        },
        {
          "output_type": "stream",
          "name": "stderr",
          "text": [
            "100%|██████████| 1863/1863 [02:37<00:00, 11.81it/s, loss=0.00282]\n",
            "100%|██████████| 68/68 [00:01<00:00, 45.79it/s]\n"
          ]
        },
        {
          "output_type": "stream",
          "name": "stdout",
          "text": [
            "The PSNR is 26.008831024169922\n",
            "The current epoch is 14\n"
          ]
        },
        {
          "output_type": "stream",
          "name": "stderr",
          "text": [
            "100%|██████████| 1863/1863 [02:34<00:00, 12.05it/s, loss=0.00282]\n",
            "100%|██████████| 68/68 [00:01<00:00, 46.47it/s]\n"
          ]
        },
        {
          "output_type": "stream",
          "name": "stdout",
          "text": [
            "The PSNR is 25.853641510009766\n",
            "The current epoch is 15\n"
          ]
        },
        {
          "output_type": "stream",
          "name": "stderr",
          "text": [
            "100%|██████████| 1863/1863 [02:34<00:00, 12.09it/s, loss=0.00282]\n",
            "100%|██████████| 68/68 [00:01<00:00, 46.65it/s]\n"
          ]
        },
        {
          "output_type": "stream",
          "name": "stdout",
          "text": [
            "The PSNR is 25.579105377197266\n",
            "The current epoch is 16\n"
          ]
        },
        {
          "output_type": "stream",
          "name": "stderr",
          "text": [
            "100%|██████████| 1863/1863 [02:33<00:00, 12.16it/s, loss=0.00281]\n",
            "100%|██████████| 68/68 [00:01<00:00, 46.55it/s]\n"
          ]
        },
        {
          "output_type": "stream",
          "name": "stdout",
          "text": [
            "The PSNR is 25.312007904052734\n",
            "The current epoch is 17\n"
          ]
        },
        {
          "output_type": "stream",
          "name": "stderr",
          "text": [
            "100%|██████████| 1863/1863 [02:35<00:00, 12.02it/s, loss=0.0028]\n",
            "100%|██████████| 68/68 [00:01<00:00, 46.44it/s]\n"
          ]
        },
        {
          "output_type": "stream",
          "name": "stdout",
          "text": [
            "The PSNR is 26.020998001098633\n",
            "The current epoch is 18\n"
          ]
        },
        {
          "output_type": "stream",
          "name": "stderr",
          "text": [
            "100%|██████████| 1863/1863 [02:35<00:00, 11.98it/s, loss=0.0028]\n",
            "100%|██████████| 68/68 [00:01<00:00, 37.89it/s]\n"
          ]
        },
        {
          "output_type": "stream",
          "name": "stdout",
          "text": [
            "The PSNR is 25.144298553466797\n",
            "The current epoch is 19\n"
          ]
        },
        {
          "output_type": "stream",
          "name": "stderr",
          "text": [
            "100%|██████████| 1863/1863 [02:35<00:00, 12.01it/s, loss=0.0028]\n",
            "100%|██████████| 68/68 [00:01<00:00, 45.75it/s]\n"
          ]
        },
        {
          "output_type": "stream",
          "name": "stdout",
          "text": [
            "The PSNR is 26.09442138671875\n"
          ]
        }
      ]
    },
    {
      "cell_type": "code",
      "execution_count": null,
      "metadata": {
        "id": "rkjZ0Ud_jNBj"
      },
      "outputs": [],
      "source": []
    }
  ],
  "metadata": {
    "accelerator": "GPU",
    "colab": {
      "gpuType": "V100",
      "provenance": []
    },
    "kernelspec": {
      "display_name": "Python 3",
      "name": "python3"
    },
    "language_info": {
      "name": "python"
    }
  },
  "nbformat": 4,
  "nbformat_minor": 0
}