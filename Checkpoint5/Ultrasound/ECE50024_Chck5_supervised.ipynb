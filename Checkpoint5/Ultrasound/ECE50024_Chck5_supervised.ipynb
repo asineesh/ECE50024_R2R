{
  "cells": [
    {
      "cell_type": "code",
      "execution_count": null,
      "metadata": {
        "id": "my0robuSXTz-"
      },
      "outputs": [],
      "source": [
        "#Importing all the libraries\n",
        "import torch\n",
        "import torch.nn as nn\n",
        "import torch.nn.functional as F\n",
        "\n",
        "from torch.utils.data import Dataset,DataLoader\n",
        "from torchvision import models,datasets,transforms\n",
        "\n",
        "from tqdm import tqdm\n",
        "import os\n",
        "from PIL import Image\n",
        "import matplotlib.pyplot as plt\n",
        "import math\n",
        "import random\n",
        "import pickle"
      ]
    },
    {
      "cell_type": "code",
      "execution_count": null,
      "metadata": {
        "colab": {
          "base_uri": "https://localhost:8080/"
        },
        "id": "fRcvdH2uXUMH",
        "outputId": "25e1a063-acb5-4357-9fc6-9456f3906ccf"
      },
      "outputs": [
        {
          "output_type": "execute_result",
          "data": {
            "text/plain": [
              "device(type='cuda')"
            ]
          },
          "metadata": {},
          "execution_count": 2
        }
      ],
      "source": [
        "#Checking if a GPU with CUDA is available\n",
        "device = torch.device(\"cuda\" if torch.cuda.is_available() else \"cpu\")\n",
        "device"
      ]
    },
    {
      "cell_type": "code",
      "execution_count": null,
      "metadata": {
        "id": "H9vNtW4VXWxF"
      },
      "outputs": [],
      "source": [
        "#Creating a custom dataset class that generates the noisy counterpart of the clean image and returns both of them\n",
        "class CustomDataset(Dataset):\n",
        "  def __init__(self,dir_name,train_flag,sigma):\n",
        "    \"\"\"\n",
        "    train_flag is True for the Train dataset and False for the evaluation dataset\n",
        "    sigma is the noise level\n",
        "    \"\"\"\n",
        "    super().__init__()\n",
        "    #Defining the transforms for the train and test datasets\n",
        "    self.test_transform = transforms.Compose([transforms.ToTensor()])\n",
        "\n",
        "    self.train_flag = train_flag\n",
        "\n",
        "    #Downloading the train and test datasets\n",
        "    if train_flag:\n",
        "      pfile = open(dir_name, 'rb')     #opening the pickle file\n",
        "      self.dataset = pickle.load(pfile) #Reading the tensors from the pickle file\n",
        "      pfile.close() #Closing the pickle file\n",
        "\n",
        "    else:\n",
        "      self.dataset = []\n",
        "      for cl in os.listdir(dir_name):\n",
        "        for img_name in os.listdir(os.path.join(dir_name,cl)):\n",
        "          self.dataset.append(os.path.join(dir_name,cl,img_name))\n",
        "\n",
        "    self.sigma = sigma\n",
        "\n",
        "  def __len__(self):\n",
        "    return len(self.dataset)\n",
        "\n",
        "  def __getitem__(self, index):\n",
        "    if self.train_flag:\n",
        "      clean_img = self.dataset[index].unsqueeze(0) #of shape (1,40,40)\n",
        "\n",
        "    else:\n",
        "      im = Image.open(self.dataset[index]).convert(\"L\") #PIL object in grayscale\n",
        "      clean_img = self.test_transform(im) #of shape (1,h,w)\n",
        "\n",
        "    #Generating the noisy image\n",
        "    noisy_img = (torch.randn(clean_img.shape)*(self.sigma/255.))+clean_img\n",
        "    return clean_img, noisy_img\n",
        "\n"
      ]
    },
    {
      "cell_type": "code",
      "execution_count": null,
      "metadata": {
        "id": "wu-KTe9ja_p7"
      },
      "outputs": [],
      "source": [
        "#Defining a Block of the DnCNN\n",
        "class Block(nn.Module):\n",
        "  def __init__(self,k=3,p=1,c=64):\n",
        "    super().__init__()\n",
        "    self.conv = nn.Conv2d(in_channels=c,out_channels=c,kernel_size=k,padding=p,bias=False) #same padding convolution\n",
        "    self.norm = nn.BatchNorm2d(c) #batch normalization\n",
        "    self.relu = nn.ReLU(inplace=True) #activation function\n",
        "\n",
        "  def forward(self,x):\n",
        "    x = self.conv(x)\n",
        "    x = self.norm(x)\n",
        "    x = self.relu(x)\n",
        "    return x"
      ]
    },
    {
      "cell_type": "code",
      "execution_count": null,
      "metadata": {
        "id": "2Bq5YdJ1bAfX"
      },
      "outputs": [],
      "source": [
        "#Defining the DnCNN model\n",
        "class DCNN(nn.Module):\n",
        "  def __init__(self,k=3,p=1,c=64,l=17,in_c=1):\n",
        "    super().__init__()\n",
        "    layers = [nn.Conv2d(in_channels=in_c,out_channels=c,kernel_size=k,padding=p,bias=False), #First same padding convolution layer\n",
        "              nn.ReLU(inplace=True)]\n",
        "    layers.extend([Block(k,p,c) for _ in range(l-2)]) #Adding all the \"Blocks\" to the model\n",
        "    layers.append(nn.Conv2d(in_channels=c,out_channels=in_c,kernel_size=k,padding=p,bias=False)) #Last same padding convolution layer\n",
        "\n",
        "    self.all = nn.Sequential(*layers)\n",
        "\n",
        "  def forward(self,x):\n",
        "    out = self.all(x)\n",
        "    return x-out\n"
      ]
    },
    {
      "cell_type": "code",
      "execution_count": null,
      "metadata": {
        "id": "2g-uj-SzbCgG"
      },
      "outputs": [],
      "source": [
        "#Function for supervised training of the model\n",
        "def train(criterion,optimizer,model,device,train_loader):\n",
        "  \"\"\"\n",
        "  criterion is the loss function\n",
        "  optimizer is the optimization algorithm used\n",
        "  model is the denoiser model\n",
        "  device is either CPU or GPU(cuda)\n",
        "  train_loader is the DataLoader containing the training dataset\n",
        "  \"\"\"\n",
        "\n",
        "  model.train()\n",
        "  loop = tqdm(train_loader)  #Used to visualized the progress in training\n",
        "  cur_loss = 0.0\n",
        "\n",
        "  for i,(clean,noisy) in enumerate(loop):   #iterating batch-by-batch through the dataset\n",
        "    clean,noisy = clean.to(device), noisy.to(device) #Moving over the data to the \"device\"\n",
        "    clean_pred = model(noisy) #Passing the data through the model\n",
        "    loss = criterion(clean_pred,clean) #Computing the loss\n",
        "\n",
        "    optimizer.zero_grad() #Zeroing all the previous gradients\n",
        "    loss.backward() #Computing the gradients for the current iteration\n",
        "    optimizer.step() #Updating the weights of the model\n",
        "\n",
        "    cur_loss += loss.item() #Keeping track of the loss\n",
        "    loop.set_postfix(loss=cur_loss/(i+1)) #Printing the cumulative loss after each iteration"
      ]
    },
    {
      "cell_type": "code",
      "execution_count": null,
      "metadata": {
        "id": "RyjnfGRZbF-A"
      },
      "outputs": [],
      "source": [
        "#Function for testing the model\n",
        "def test(criterion,model,device,test_loader):\n",
        "  \"\"\"\n",
        "  criterion is the function used to compute PSNR\n",
        "  model is the denoiser model\n",
        "  device is either CPU or GPU(cuda)\n",
        "  test_loader is the DataLoader containing the test dataset\n",
        "  \"\"\"\n",
        "\n",
        "  model.eval()\n",
        "  loop = tqdm(test_loader) #Used to visualized the progress in testing\n",
        "  total_mse = []\n",
        "\n",
        "  with torch.no_grad(): #Ensures that the gradients are not computed\n",
        "    for i,(clean,noisy) in enumerate(loop): #iterating batch-by-batch through the dataset\n",
        "      clean,noisy = clean.to(device).float(), noisy.to(device).float() #Moving over the data to the \"device\"\n",
        "      out = model(noisy) #Passing the data through the model\n",
        "\n",
        "      clean_pred = torch.clamp(out,min=0.0,max=1.0) #Clips all the values greater than 1 or less than 0\n",
        "      loss = (criterion(clean_pred,clean).mean(axis=(1,2,3))).tolist() #Computing MSE at an image level\n",
        "      total_mse.extend(loss)\n",
        "\n",
        "  total_mse_tensor = torch.tensor(total_mse)\n",
        "  psnr = (-10*torch.log10(total_mse_tensor)).mean() #Computing the PSNR using the corresponding MSE values\n",
        "\n",
        "  print(f\"The PSNR is {psnr}\")\n",
        "  return psnr.item()"
      ]
    },
    {
      "cell_type": "code",
      "execution_count": null,
      "metadata": {
        "id": "7f3MYBWQbJfs"
      },
      "outputs": [],
      "source": [
        "#Function to computer the number of parameters in a model\n",
        "def number_of_parameters(model):\n",
        "    return sum(params.numel() for params in model.parameters() if params.requires_grad)"
      ]
    },
    {
      "cell_type": "code",
      "execution_count": null,
      "metadata": {
        "id": "oHFRG9Q4bKXP"
      },
      "outputs": [],
      "source": [
        "#Wrapper function to train and evaluate the denoiser model\n",
        "def wrapper(sigma):\n",
        "  print(f\"This is for sigma of {sigma}\")\n",
        "\n",
        "  #Defines the loaders for the train and test set\n",
        "  train_set = CustomDataset(\"/content/drive/MyDrive/R2R_ML/Covid_dataset/Covid_train.pkl\",True,sigma)\n",
        "  test_set = CustomDataset(\"/content/drive/MyDrive/R2R_ML/Covid_dataset/split4\",False,sigma)\n",
        "\n",
        "  train_loader = DataLoader(train_set,batch_size=128,shuffle=True,num_workers=64)\n",
        "  test_loader = DataLoader(test_set,batch_size=1,shuffle=False,num_workers=1)\n",
        "\n",
        "  print(f\"The number of images in the train set is {len(train_set)}\")\n",
        "  print(f\"The number of images in the test set is {(len(test_set))}\")\n",
        "\n",
        "  #Defining the model, loss function and optimizer\n",
        "  model = DCNN().to(device)\n",
        "  criterion_train = nn.MSELoss()\n",
        "  criterion_test = nn.MSELoss(reduce=False)\n",
        "  optimizer = torch.optim.Adam(model.parameters(),lr=0.001)\n",
        "  epochs = 10\n",
        "\n",
        "  print(f\"The model has {number_of_parameters(model)} parameters\")\n",
        "  #Computing the PSNR between the noisy and clean image\n",
        "  total_mse = []\n",
        "  with torch.no_grad():\n",
        "      for i,(clean,noisy) in enumerate(test_loader):\n",
        "        clean,noisy = clean.to(device), noisy.to(device)\n",
        "        loss = (criterion_test(noisy,clean).mean(axis=(1,2,3))).tolist()\n",
        "        total_mse.extend(loss)\n",
        "\n",
        "  total_mse_tensor = torch.tensor(total_mse)\n",
        "  psnr = (-10*torch.log10(total_mse_tensor)).mean()\n",
        "  print(f\"The PSNR for an untrained densoiser is {psnr}\")\n",
        "\n",
        "  #Iterating through the epochs\n",
        "  best_psnr = 0.0\n",
        "  for epoch in range(epochs):\n",
        "    print(f\"The current epoch is {epoch}\")\n",
        "    train(criterion_train,optimizer,model,device,train_loader)\n",
        "    cur_psnr = test(criterion_test,model,device,test_loader)\n",
        "    if cur_psnr>best_psnr: #Saving the model with the best PSNR value\n",
        "      best_psnr = cur_psnr\n",
        "      torch.save(model.state_dict(), \"Supervised\"+str(epoch)+\"_\"+str(round(cur_psnr,2))+\"_\"+ str(sigma) + \".pt\")\n"
      ]
    },
    {
      "cell_type": "code",
      "source": [
        "#For sigma value of 10\n",
        "wrapper(10)"
      ],
      "metadata": {
        "colab": {
          "base_uri": "https://localhost:8080/"
        },
        "id": "hvvARxQfRdu1",
        "outputId": "4d29c125-21d1-4020-96be-3bab4a6c2f19"
      },
      "execution_count": null,
      "outputs": [
        {
          "output_type": "stream",
          "name": "stdout",
          "text": [
            "This is for sigma of 10\n"
          ]
        },
        {
          "output_type": "stream",
          "name": "stderr",
          "text": [
            "/usr/local/lib/python3.10/dist-packages/torch/utils/data/dataloader.py:558: UserWarning: This DataLoader will create 64 worker processes in total. Our suggested max number of worker in current system is 2, which is smaller than what this DataLoader is going to create. Please be aware that excessive worker creation might get DataLoader running slow or even freeze, lower the worker number to avoid potential slowness/freeze if necessary.\n",
            "  warnings.warn(_create_warning_msg(\n"
          ]
        },
        {
          "output_type": "stream",
          "name": "stdout",
          "text": [
            "The number of images in the train set is 129664\n",
            "The number of images in the test set is 517\n",
            "The model has 556032 parameters\n"
          ]
        },
        {
          "output_type": "stream",
          "name": "stderr",
          "text": [
            "/usr/local/lib/python3.10/dist-packages/torch/nn/_reduction.py:42: UserWarning: size_average and reduce args will be deprecated, please use reduction='none' instead.\n",
            "  warnings.warn(warning.format(ret))\n",
            "/usr/lib/python3.10/multiprocessing/popen_fork.py:66: RuntimeWarning: os.fork() was called. os.fork() is incompatible with multithreaded code, and JAX is multithreaded, so this will likely lead to a deadlock.\n",
            "  self.pid = os.fork()\n",
            "/usr/lib/python3.10/multiprocessing/popen_fork.py:66: RuntimeWarning: os.fork() was called. os.fork() is incompatible with multithreaded code, and JAX is multithreaded, so this will likely lead to a deadlock.\n",
            "  self.pid = os.fork()\n"
          ]
        },
        {
          "output_type": "stream",
          "name": "stdout",
          "text": [
            "The PSNR for an untrained densoiser is 28.131553649902344\n",
            "The current epoch is 0\n"
          ]
        },
        {
          "output_type": "stream",
          "name": "stderr",
          "text": [
            "100%|██████████| 1013/1013 [04:23<00:00,  3.84it/s, loss=0.00223]\n",
            "100%|██████████| 517/517 [00:14<00:00, 36.00it/s]\n"
          ]
        },
        {
          "output_type": "stream",
          "name": "stdout",
          "text": [
            "The PSNR is 37.77588653564453\n",
            "The current epoch is 1\n"
          ]
        },
        {
          "output_type": "stream",
          "name": "stderr",
          "text": [
            "100%|██████████| 1013/1013 [04:20<00:00,  3.88it/s, loss=0.000193]\n",
            "100%|██████████| 517/517 [00:14<00:00, 35.62it/s]\n"
          ]
        },
        {
          "output_type": "stream",
          "name": "stdout",
          "text": [
            "The PSNR is 37.314212799072266\n",
            "The current epoch is 2\n"
          ]
        },
        {
          "output_type": "stream",
          "name": "stderr",
          "text": [
            "100%|██████████| 1013/1013 [04:23<00:00,  3.84it/s, loss=0.000174]\n",
            "100%|██████████| 517/517 [00:15<00:00, 33.89it/s]\n"
          ]
        },
        {
          "output_type": "stream",
          "name": "stdout",
          "text": [
            "The PSNR is 38.93684768676758\n",
            "The current epoch is 3\n"
          ]
        },
        {
          "output_type": "stream",
          "name": "stderr",
          "text": [
            "100%|██████████| 1013/1013 [04:22<00:00,  3.86it/s, loss=0.000178]\n",
            "100%|██████████| 517/517 [00:14<00:00, 36.29it/s]\n"
          ]
        },
        {
          "output_type": "stream",
          "name": "stdout",
          "text": [
            "The PSNR is 38.75880432128906\n",
            "The current epoch is 4\n"
          ]
        },
        {
          "output_type": "stream",
          "name": "stderr",
          "text": [
            "100%|██████████| 1013/1013 [04:21<00:00,  3.88it/s, loss=0.000183]\n",
            "100%|██████████| 517/517 [00:14<00:00, 36.31it/s]\n"
          ]
        },
        {
          "output_type": "stream",
          "name": "stdout",
          "text": [
            "The PSNR is 36.32122802734375\n",
            "The current epoch is 5\n"
          ]
        },
        {
          "output_type": "stream",
          "name": "stderr",
          "text": [
            "100%|██████████| 1013/1013 [04:20<00:00,  3.88it/s, loss=0.000167]\n",
            "100%|██████████| 517/517 [00:15<00:00, 33.68it/s]\n"
          ]
        },
        {
          "output_type": "stream",
          "name": "stdout",
          "text": [
            "The PSNR is 39.06449508666992\n",
            "The current epoch is 6\n"
          ]
        },
        {
          "output_type": "stream",
          "name": "stderr",
          "text": [
            "100%|██████████| 1013/1013 [04:21<00:00,  3.88it/s, loss=0.000157]\n",
            "100%|██████████| 517/517 [00:14<00:00, 35.92it/s]\n"
          ]
        },
        {
          "output_type": "stream",
          "name": "stdout",
          "text": [
            "The PSNR is 39.5080680847168\n",
            "The current epoch is 7\n"
          ]
        },
        {
          "output_type": "stream",
          "name": "stderr",
          "text": [
            "100%|██████████| 1013/1013 [04:21<00:00,  3.87it/s, loss=0.000153]\n",
            "100%|██████████| 517/517 [00:14<00:00, 36.12it/s]\n"
          ]
        },
        {
          "output_type": "stream",
          "name": "stdout",
          "text": [
            "The PSNR is 39.56069564819336\n",
            "The current epoch is 8\n"
          ]
        },
        {
          "output_type": "stream",
          "name": "stderr",
          "text": [
            "100%|██████████| 1013/1013 [04:19<00:00,  3.90it/s, loss=0.000146]\n",
            "100%|██████████| 517/517 [00:13<00:00, 37.02it/s]\n"
          ]
        },
        {
          "output_type": "stream",
          "name": "stdout",
          "text": [
            "The PSNR is 38.736732482910156\n",
            "The current epoch is 9\n"
          ]
        },
        {
          "output_type": "stream",
          "name": "stderr",
          "text": [
            "100%|██████████| 1013/1013 [04:21<00:00,  3.87it/s, loss=0.000158]\n",
            "100%|██████████| 517/517 [00:13<00:00, 37.19it/s]\n"
          ]
        },
        {
          "output_type": "stream",
          "name": "stdout",
          "text": [
            "The PSNR is 39.44612121582031\n"
          ]
        }
      ]
    },
    {
      "cell_type": "code",
      "execution_count": null,
      "metadata": {
        "id": "NgARgKajbZb0",
        "colab": {
          "base_uri": "https://localhost:8080/"
        },
        "outputId": "544609f3-2568-44ea-eb3a-4d55f0778ebf"
      },
      "outputs": [
        {
          "output_type": "stream",
          "name": "stdout",
          "text": [
            "This is for sigma of 25\n",
            "The number of images in the train set is 129664\n",
            "The number of images in the test set is 517\n",
            "The model has 556032 parameters\n",
            "The PSNR for an untrained densoiser is 20.172510147094727\n",
            "The current epoch is 0\n"
          ]
        },
        {
          "output_type": "stream",
          "name": "stderr",
          "text": [
            "100%|██████████| 1013/1013 [04:23<00:00,  3.85it/s, loss=0.00287]\n",
            "100%|██████████| 517/517 [00:14<00:00, 36.52it/s]\n"
          ]
        },
        {
          "output_type": "stream",
          "name": "stdout",
          "text": [
            "The PSNR is 34.43827438354492\n",
            "The current epoch is 1\n"
          ]
        },
        {
          "output_type": "stream",
          "name": "stderr",
          "text": [
            "100%|██████████| 1013/1013 [04:22<00:00,  3.86it/s, loss=0.000521]\n",
            "100%|██████████| 517/517 [00:14<00:00, 35.39it/s]\n"
          ]
        },
        {
          "output_type": "stream",
          "name": "stdout",
          "text": [
            "The PSNR is 33.95232391357422\n",
            "The current epoch is 2\n"
          ]
        },
        {
          "output_type": "stream",
          "name": "stderr",
          "text": [
            "100%|██████████| 1013/1013 [04:20<00:00,  3.88it/s, loss=0.000469]\n",
            "100%|██████████| 517/517 [00:14<00:00, 36.82it/s]\n"
          ]
        },
        {
          "output_type": "stream",
          "name": "stdout",
          "text": [
            "The PSNR is 35.39094543457031\n",
            "The current epoch is 3\n"
          ]
        },
        {
          "output_type": "stream",
          "name": "stderr",
          "text": [
            "100%|██████████| 1013/1013 [04:21<00:00,  3.87it/s, loss=0.000396]\n",
            "100%|██████████| 517/517 [00:13<00:00, 37.51it/s]\n"
          ]
        },
        {
          "output_type": "stream",
          "name": "stdout",
          "text": [
            "The PSNR is 35.61539077758789\n",
            "The current epoch is 4\n"
          ]
        },
        {
          "output_type": "stream",
          "name": "stderr",
          "text": [
            "100%|██████████| 1013/1013 [04:23<00:00,  3.84it/s, loss=0.000384]\n",
            "100%|██████████| 517/517 [00:14<00:00, 35.49it/s]\n"
          ]
        },
        {
          "output_type": "stream",
          "name": "stdout",
          "text": [
            "The PSNR is 34.76416778564453\n",
            "The current epoch is 5\n"
          ]
        },
        {
          "output_type": "stream",
          "name": "stderr",
          "text": [
            "100%|██████████| 1013/1013 [04:21<00:00,  3.87it/s, loss=0.000375]\n",
            "100%|██████████| 517/517 [00:13<00:00, 37.61it/s]\n"
          ]
        },
        {
          "output_type": "stream",
          "name": "stdout",
          "text": [
            "The PSNR is 35.802852630615234\n",
            "The current epoch is 6\n"
          ]
        },
        {
          "output_type": "stream",
          "name": "stderr",
          "text": [
            "100%|██████████| 1013/1013 [04:23<00:00,  3.84it/s, loss=0.000355]\n",
            "100%|██████████| 517/517 [00:14<00:00, 36.38it/s]\n"
          ]
        },
        {
          "output_type": "stream",
          "name": "stdout",
          "text": [
            "The PSNR is 34.14744567871094\n",
            "The current epoch is 7\n"
          ]
        },
        {
          "output_type": "stream",
          "name": "stderr",
          "text": [
            "100%|██████████| 1013/1013 [04:22<00:00,  3.86it/s, loss=0.00122]\n",
            "100%|██████████| 517/517 [00:14<00:00, 36.20it/s]\n"
          ]
        },
        {
          "output_type": "stream",
          "name": "stdout",
          "text": [
            "The PSNR is 21.463497161865234\n",
            "The current epoch is 8\n"
          ]
        },
        {
          "output_type": "stream",
          "name": "stderr",
          "text": [
            "100%|██████████| 1013/1013 [04:22<00:00,  3.87it/s, loss=0.00235]\n",
            "100%|██████████| 517/517 [00:14<00:00, 36.23it/s]\n"
          ]
        },
        {
          "output_type": "stream",
          "name": "stdout",
          "text": [
            "The PSNR is 34.08458709716797\n",
            "The current epoch is 9\n"
          ]
        },
        {
          "output_type": "stream",
          "name": "stderr",
          "text": [
            "100%|██████████| 1013/1013 [04:20<00:00,  3.88it/s, loss=0.000409]\n",
            "100%|██████████| 517/517 [00:14<00:00, 36.53it/s]\n"
          ]
        },
        {
          "output_type": "stream",
          "name": "stdout",
          "text": [
            "The PSNR is 35.09721374511719\n"
          ]
        }
      ],
      "source": [
        "#For sigma value of 25\n",
        "wrapper(25)"
      ]
    },
    {
      "cell_type": "code",
      "source": [
        "#For sigma value of 50\n",
        "wrapper(50)"
      ],
      "metadata": {
        "id": "C6rF7S60RiC1",
        "colab": {
          "base_uri": "https://localhost:8080/"
        },
        "outputId": "7ecef5fa-8ef3-4ca0-d4d1-d4f25c34c494"
      },
      "execution_count": null,
      "outputs": [
        {
          "output_type": "stream",
          "name": "stdout",
          "text": [
            "This is for sigma of 50\n",
            "The number of images in the train set is 129664\n",
            "The number of images in the test set is 517\n",
            "The model has 556032 parameters\n",
            "The PSNR for an untrained densoiser is 14.150960922241211\n",
            "The current epoch is 0\n"
          ]
        },
        {
          "output_type": "stream",
          "name": "stderr",
          "text": [
            "100%|██████████| 1013/1013 [04:22<00:00,  3.86it/s, loss=0.00418]\n",
            "100%|██████████| 517/517 [00:14<00:00, 36.00it/s]\n"
          ]
        },
        {
          "output_type": "stream",
          "name": "stdout",
          "text": [
            "The PSNR is 30.94282341003418\n",
            "The current epoch is 1\n"
          ]
        },
        {
          "output_type": "stream",
          "name": "stderr",
          "text": [
            "100%|██████████| 1013/1013 [04:20<00:00,  3.89it/s, loss=0.00106]\n",
            "100%|██████████| 517/517 [00:13<00:00, 37.76it/s]\n"
          ]
        },
        {
          "output_type": "stream",
          "name": "stdout",
          "text": [
            "The PSNR is 31.24430274963379\n",
            "The current epoch is 2\n"
          ]
        },
        {
          "output_type": "stream",
          "name": "stderr",
          "text": [
            "100%|██████████| 1013/1013 [04:21<00:00,  3.88it/s, loss=0.00089]\n",
            "100%|██████████| 517/517 [00:13<00:00, 37.71it/s]\n"
          ]
        },
        {
          "output_type": "stream",
          "name": "stdout",
          "text": [
            "The PSNR is 32.195899963378906\n",
            "The current epoch is 3\n"
          ]
        },
        {
          "output_type": "stream",
          "name": "stderr",
          "text": [
            "100%|██████████| 1013/1013 [04:23<00:00,  3.84it/s, loss=0.000814]\n",
            "100%|██████████| 517/517 [00:13<00:00, 37.63it/s]\n"
          ]
        },
        {
          "output_type": "stream",
          "name": "stdout",
          "text": [
            "The PSNR is 32.60865783691406\n",
            "The current epoch is 4\n"
          ]
        },
        {
          "output_type": "stream",
          "name": "stderr",
          "text": [
            "100%|██████████| 1013/1013 [04:22<00:00,  3.86it/s, loss=0.000767]\n",
            "100%|██████████| 517/517 [00:15<00:00, 33.13it/s]\n"
          ]
        },
        {
          "output_type": "stream",
          "name": "stdout",
          "text": [
            "The PSNR is 32.73145294189453\n",
            "The current epoch is 5\n"
          ]
        },
        {
          "output_type": "stream",
          "name": "stderr",
          "text": [
            "100%|██████████| 1013/1013 [04:22<00:00,  3.86it/s, loss=0.000739]\n",
            "100%|██████████| 517/517 [00:14<00:00, 35.34it/s]\n"
          ]
        },
        {
          "output_type": "stream",
          "name": "stdout",
          "text": [
            "The PSNR is 32.83818817138672\n",
            "The current epoch is 6\n"
          ]
        },
        {
          "output_type": "stream",
          "name": "stderr",
          "text": [
            "100%|██████████| 1013/1013 [04:23<00:00,  3.85it/s, loss=0.000707]\n",
            "100%|██████████| 517/517 [00:14<00:00, 36.15it/s]\n"
          ]
        },
        {
          "output_type": "stream",
          "name": "stdout",
          "text": [
            "The PSNR is 32.5257568359375\n",
            "The current epoch is 7\n"
          ]
        },
        {
          "output_type": "stream",
          "name": "stderr",
          "text": [
            "100%|██████████| 1013/1013 [04:23<00:00,  3.84it/s, loss=0.000677]\n",
            "100%|██████████| 517/517 [00:14<00:00, 36.27it/s]\n"
          ]
        },
        {
          "output_type": "stream",
          "name": "stdout",
          "text": [
            "The PSNR is 32.79485321044922\n",
            "The current epoch is 8\n"
          ]
        },
        {
          "output_type": "stream",
          "name": "stderr",
          "text": [
            "100%|██████████| 1013/1013 [04:22<00:00,  3.86it/s, loss=0.000653]\n",
            "100%|██████████| 517/517 [00:14<00:00, 35.98it/s]\n"
          ]
        },
        {
          "output_type": "stream",
          "name": "stdout",
          "text": [
            "The PSNR is 33.19359588623047\n",
            "The current epoch is 9\n"
          ]
        },
        {
          "output_type": "stream",
          "name": "stderr",
          "text": [
            "100%|██████████| 1013/1013 [04:22<00:00,  3.86it/s, loss=0.00064]\n",
            "100%|██████████| 517/517 [00:14<00:00, 36.31it/s]\n"
          ]
        },
        {
          "output_type": "stream",
          "name": "stdout",
          "text": [
            "The PSNR is 33.150550842285156\n"
          ]
        }
      ]
    }
  ],
  "metadata": {
    "accelerator": "GPU",
    "colab": {
      "gpuType": "V100",
      "provenance": []
    },
    "kernelspec": {
      "display_name": "Python 3",
      "name": "python3"
    },
    "language_info": {
      "name": "python"
    }
  },
  "nbformat": 4,
  "nbformat_minor": 0
}