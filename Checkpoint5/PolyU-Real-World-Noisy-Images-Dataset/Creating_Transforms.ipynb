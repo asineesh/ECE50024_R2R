{
 "cells": [
  {
   "cell_type": "code",
   "execution_count": 1,
   "id": "7a3f6a75",
   "metadata": {},
   "outputs": [],
   "source": [
    "import os\n",
    "import matplotlib.pyplot as plt\n",
    "import torch\n",
    "from PIL import Image\n",
    "from torchvision import transforms\n",
    "import pickle"
   ]
  },
  {
   "cell_type": "code",
   "execution_count": 2,
   "id": "fbfd258f",
   "metadata": {},
   "outputs": [],
   "source": [
    "def Patch_Generator(img_loc):\n",
    "    im = Image.open(img_loc).convert('RGB') #PIL object in RGB\n",
    "    h,w = im.size\n",
    "    \n",
    "    all_patches = torch.empty((1,3,40,40))\n",
    "    \n",
    "    for scale in [1, 0.9, 0.8, 0.7]:\n",
    "        img = transforms.Compose([transforms.Resize((int(scale*h),int(scale*w))),transforms.ToTensor()])(im) #of shape (1,scale*h,scale*w)\n",
    "\n",
    "        kh, kw = 40, 40  # kernel size\n",
    "        dh, dw = 10, 10  # stride\n",
    "\n",
    "        patches = img.unfold(1, kh, dh).unfold(2, kw, dw) #of shape (3,h_patch_patch,w_patch_num,kh,kw)\n",
    "        patches = patches.permute((2,1,0,3,4)).reshape(-1,3,kh, kw) #of shape (num_patches,3,kh,kw)\n",
    "\n",
    "        patches2 = torch.flipud(patches.permute((2,3,1,0))) #of shape (kh,kw,3,num_patches)\n",
    "        patches2 = patches2.permute((3,2,0,1)) #of shape (num_patches,3,kh,kw)\n",
    "\n",
    "        patches3 = torch.rot90(patches.permute((2,3,1,0)),k=1) #of shape (kh,kw,3,num_patches)\n",
    "        patches3 = patches3.permute((3,2,0,1)) #of shape (num_patches,3,kh,kw)\n",
    "\n",
    "        patches4 = torch.flipud(torch.rot90(patches.permute((2,3,1,0)),k=1)) #of shape (kh,kw,3,num_patches)\n",
    "        patches4 = patches4.permute((3,2,0,1)) #of shape (num_patches,3,kh,kw)\n",
    "\n",
    "        patches5 = torch.rot90(patches.permute((2,3,1,0)),k=2) #of shape (kh,kw,3,num_patches)\n",
    "        patches5 = patches5.permute((3,2,0,1)) #of shape (num_patches,3,kh,kw)\n",
    "\n",
    "        patches6 = torch.flipud(torch.rot90(patches.permute((2,3,1,0)),k=2)) #of shape (kh,kw,3,num_patches)\n",
    "        patches6 = patches6.permute((3,2,0,1)) #of shape (num_patches,3,kh,kw)\n",
    "\n",
    "        patches7 = torch.rot90(patches.permute((2,3,1,0)),k=3) #of shape (kh,kw,3,num_patches)\n",
    "        patches7 = patches7.permute((3,2,0,1)) #of shape (num_patches,3,kh,kw)\n",
    "\n",
    "        patches8 = torch.flipud(torch.rot90(patches.permute((2,3,1,0)),k=3)) #of shape (kh,kw,3,num_patches)\n",
    "        patches8 = patches8.permute((3,2,0,1)) #of shape (num_patches,3,kh,kw)\n",
    "\n",
    "        all_patches = torch.concat([all_patches,patches,patches2,patches3,patches4,patches5,patches6,patches7,patches8],dim=0)\n",
    "    \n",
    "    return all_patches[1:] #of shape (total_num_patches,3,kh,kw)\n"
   ]
  },
  {
   "cell_type": "code",
   "execution_count": 3,
   "id": "012fc348",
   "metadata": {},
   "outputs": [],
   "source": [
    "img_augs = Patch_Generator('CroppedImages/Sony_4-5_125_3200_plant_13_real.JPG')\n",
    "    "
   ]
  },
  {
   "cell_type": "code",
   "execution_count": 4,
   "id": "d483d96b",
   "metadata": {},
   "outputs": [
    {
     "name": "stdout",
     "output_type": "stream",
     "text": [
      "The number of augmentations generated is 52367\n"
     ]
    }
   ],
   "source": [
    "print(\"The number of augmentations generated is \"+str(img_augs.shape[0]-1))"
   ]
  },
  {
   "cell_type": "code",
   "execution_count": 5,
   "id": "1a5fb89d",
   "metadata": {},
   "outputs": [],
   "source": [
    "dbfile = open('PolyU_train.pkl', 'wb')\n",
    "# source, destination\n",
    "pickle.dump(img_augs[1:], dbfile)                    \n",
    "dbfile.close()\n"
   ]
  },
  {
   "cell_type": "code",
   "execution_count": null,
   "id": "9ae4eb37",
   "metadata": {},
   "outputs": [],
   "source": []
  }
 ],
 "metadata": {
  "kernelspec": {
   "display_name": "Python 3 (ipykernel)",
   "language": "python",
   "name": "python3"
  },
  "language_info": {
   "codemirror_mode": {
    "name": "ipython",
    "version": 3
   },
   "file_extension": ".py",
   "mimetype": "text/x-python",
   "name": "python",
   "nbconvert_exporter": "python",
   "pygments_lexer": "ipython3",
   "version": "3.12.1"
  }
 },
 "nbformat": 4,
 "nbformat_minor": 5
}
