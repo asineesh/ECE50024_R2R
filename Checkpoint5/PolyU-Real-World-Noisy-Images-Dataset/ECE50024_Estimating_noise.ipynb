{
  "nbformat": 4,
  "nbformat_minor": 0,
  "metadata": {
    "colab": {
      "provenance": []
    },
    "kernelspec": {
      "name": "python3",
      "display_name": "Python 3"
    },
    "language_info": {
      "name": "python"
    }
  },
  "cells": [
    {
      "cell_type": "code",
      "execution_count": 1,
      "metadata": {
        "id": "DI7piz_5c0-A"
      },
      "outputs": [],
      "source": [
        "import torch\n",
        "from PIL import Image\n",
        "from torchvision import transforms\n",
        "import numpy as np\n"
      ]
    },
    {
      "cell_type": "code",
      "source": [
        "from google.colab import drive\n",
        "drive.mount('/content/drive')"
      ],
      "metadata": {
        "colab": {
          "base_uri": "https://localhost:8080/"
        },
        "id": "S-lDTOW2C31U",
        "outputId": "55fa08a2-65c7-4be4-8a49-a33eef534b64"
      },
      "execution_count": 3,
      "outputs": [
        {
          "output_type": "stream",
          "name": "stdout",
          "text": [
            "Mounted at /content/drive\n"
          ]
        }
      ]
    },
    {
      "cell_type": "code",
      "source": [
        "noisy = Image.open(\"/content/drive/MyDrive/R2R_ML/an_image/test/Sony_4-5_125_3200_plant_13_real.JPG\")\n",
        "transform = transforms.ToTensor()\n",
        "n = transform(noisy) #of shape (3,512,512)\n",
        "\n",
        "#Generating patches\n",
        "kh, kw = 8, 8  # kernel size\n",
        "dh, dw = 3, 3  # stride\n",
        "\n",
        "patches = n.unfold(1, kh, dh).unfold(2, kw, dw) #of shape (3,h_patch_patch,w_patch_num,kh,kw)\n",
        "patches = patches.permute((2,1,0,3,4)).reshape(-1,3,kh, kw) #of shape (num_patches,3,kh,kw)\n",
        "patches = patches.reshape((-1,8*8*3)).permute((1,0))  #of shape (dim,num_patches)\n",
        "\n",
        "mu = patches.mean(axis=1, keepdims=True)  # of shape (dim,1)\n",
        "X = patches - mu  #of shape (dim,num_patches)\n",
        "sigma_X = np.matmul(X, X.T) / patches.shape[1] #of shape (dim,dim)\n",
        "\n",
        "eigen_vals, _ = np.linalg.eigh(sigma_X)\n",
        "eigen_vals.sort() #of shape (dim)\n",
        "\n",
        "for i in range(patches.shape[1]-1,-1,-1):\n",
        "    tau = np.mean(eigen_vals[:i])\n",
        "    if np.sum(eigen_vals[:i]>tau) == np.sum(eigen_vals[:i]<tau): #Checking if tau is the median\n",
        "        break\n",
        "\n",
        "#Printing the estimated noise level\n",
        "print(np.sqrt(tau)*255)\n"
      ],
      "metadata": {
        "id": "jnika3F0e2eh",
        "colab": {
          "base_uri": "https://localhost:8080/"
        },
        "outputId": "103ccd20-df48-459c-8808-6233db982872"
      },
      "execution_count": 4,
      "outputs": [
        {
          "output_type": "stream",
          "name": "stdout",
          "text": [
            "0.4434824560303241\n"
          ]
        }
      ]
    }
  ]
}